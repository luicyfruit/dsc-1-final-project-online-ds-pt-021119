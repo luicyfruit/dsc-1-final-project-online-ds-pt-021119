{
 "cells": [
  {
   "cell_type": "markdown",
   "metadata": {},
   "source": [
    "## Final Project Submission\n",
    "\n",
    "Please fill out:\n",
    "* Student name: Lucy Hayes\n",
    "* Student pace: part time\n",
    "* Scheduled project review date/time: \n",
    "* Instructor name: Brandon Lewis\n",
    "* Blog post URL:\n"
   ]
  },
  {
   "cell_type": "markdown",
   "metadata": {},
   "source": [
    "# Importing Data and Getting a Quick Glance"
   ]
  },
  {
   "cell_type": "code",
   "execution_count": 1,
   "metadata": {
    "scrolled": true
   },
   "outputs": [
    {
     "name": "stdout",
     "output_type": "stream",
     "text": [
      "21597\n"
     ]
    },
    {
     "data": {
      "text/html": [
       "<div>\n",
       "<style scoped>\n",
       "    .dataframe tbody tr th:only-of-type {\n",
       "        vertical-align: middle;\n",
       "    }\n",
       "\n",
       "    .dataframe tbody tr th {\n",
       "        vertical-align: top;\n",
       "    }\n",
       "\n",
       "    .dataframe thead th {\n",
       "        text-align: right;\n",
       "    }\n",
       "</style>\n",
       "<table border=\"1\" class=\"dataframe\">\n",
       "  <thead>\n",
       "    <tr style=\"text-align: right;\">\n",
       "      <th></th>\n",
       "      <th>id</th>\n",
       "      <th>date</th>\n",
       "      <th>price</th>\n",
       "      <th>bedrooms</th>\n",
       "      <th>bathrooms</th>\n",
       "      <th>sqft_living</th>\n",
       "      <th>sqft_lot</th>\n",
       "      <th>floors</th>\n",
       "      <th>waterfront</th>\n",
       "      <th>view</th>\n",
       "      <th>...</th>\n",
       "      <th>grade</th>\n",
       "      <th>sqft_above</th>\n",
       "      <th>sqft_basement</th>\n",
       "      <th>yr_built</th>\n",
       "      <th>yr_renovated</th>\n",
       "      <th>zipcode</th>\n",
       "      <th>lat</th>\n",
       "      <th>long</th>\n",
       "      <th>sqft_living15</th>\n",
       "      <th>sqft_lot15</th>\n",
       "    </tr>\n",
       "  </thead>\n",
       "  <tbody>\n",
       "    <tr>\n",
       "      <th>0</th>\n",
       "      <td>7129300520</td>\n",
       "      <td>10/13/2014</td>\n",
       "      <td>221900.0</td>\n",
       "      <td>3</td>\n",
       "      <td>1.00</td>\n",
       "      <td>1180</td>\n",
       "      <td>5650</td>\n",
       "      <td>1.0</td>\n",
       "      <td>NaN</td>\n",
       "      <td>0.0</td>\n",
       "      <td>...</td>\n",
       "      <td>7</td>\n",
       "      <td>1180</td>\n",
       "      <td>0.0</td>\n",
       "      <td>1955</td>\n",
       "      <td>0.0</td>\n",
       "      <td>98178</td>\n",
       "      <td>47.5112</td>\n",
       "      <td>-122.257</td>\n",
       "      <td>1340</td>\n",
       "      <td>5650</td>\n",
       "    </tr>\n",
       "    <tr>\n",
       "      <th>1</th>\n",
       "      <td>6414100192</td>\n",
       "      <td>12/9/2014</td>\n",
       "      <td>538000.0</td>\n",
       "      <td>3</td>\n",
       "      <td>2.25</td>\n",
       "      <td>2570</td>\n",
       "      <td>7242</td>\n",
       "      <td>2.0</td>\n",
       "      <td>0.0</td>\n",
       "      <td>0.0</td>\n",
       "      <td>...</td>\n",
       "      <td>7</td>\n",
       "      <td>2170</td>\n",
       "      <td>400.0</td>\n",
       "      <td>1951</td>\n",
       "      <td>1991.0</td>\n",
       "      <td>98125</td>\n",
       "      <td>47.7210</td>\n",
       "      <td>-122.319</td>\n",
       "      <td>1690</td>\n",
       "      <td>7639</td>\n",
       "    </tr>\n",
       "    <tr>\n",
       "      <th>2</th>\n",
       "      <td>5631500400</td>\n",
       "      <td>2/25/2015</td>\n",
       "      <td>180000.0</td>\n",
       "      <td>2</td>\n",
       "      <td>1.00</td>\n",
       "      <td>770</td>\n",
       "      <td>10000</td>\n",
       "      <td>1.0</td>\n",
       "      <td>0.0</td>\n",
       "      <td>0.0</td>\n",
       "      <td>...</td>\n",
       "      <td>6</td>\n",
       "      <td>770</td>\n",
       "      <td>0.0</td>\n",
       "      <td>1933</td>\n",
       "      <td>NaN</td>\n",
       "      <td>98028</td>\n",
       "      <td>47.7379</td>\n",
       "      <td>-122.233</td>\n",
       "      <td>2720</td>\n",
       "      <td>8062</td>\n",
       "    </tr>\n",
       "    <tr>\n",
       "      <th>3</th>\n",
       "      <td>2487200875</td>\n",
       "      <td>12/9/2014</td>\n",
       "      <td>604000.0</td>\n",
       "      <td>4</td>\n",
       "      <td>3.00</td>\n",
       "      <td>1960</td>\n",
       "      <td>5000</td>\n",
       "      <td>1.0</td>\n",
       "      <td>0.0</td>\n",
       "      <td>0.0</td>\n",
       "      <td>...</td>\n",
       "      <td>7</td>\n",
       "      <td>1050</td>\n",
       "      <td>910.0</td>\n",
       "      <td>1965</td>\n",
       "      <td>0.0</td>\n",
       "      <td>98136</td>\n",
       "      <td>47.5208</td>\n",
       "      <td>-122.393</td>\n",
       "      <td>1360</td>\n",
       "      <td>5000</td>\n",
       "    </tr>\n",
       "    <tr>\n",
       "      <th>4</th>\n",
       "      <td>1954400510</td>\n",
       "      <td>2/18/2015</td>\n",
       "      <td>510000.0</td>\n",
       "      <td>3</td>\n",
       "      <td>2.00</td>\n",
       "      <td>1680</td>\n",
       "      <td>8080</td>\n",
       "      <td>1.0</td>\n",
       "      <td>0.0</td>\n",
       "      <td>0.0</td>\n",
       "      <td>...</td>\n",
       "      <td>8</td>\n",
       "      <td>1680</td>\n",
       "      <td>0.0</td>\n",
       "      <td>1987</td>\n",
       "      <td>0.0</td>\n",
       "      <td>98074</td>\n",
       "      <td>47.6168</td>\n",
       "      <td>-122.045</td>\n",
       "      <td>1800</td>\n",
       "      <td>7503</td>\n",
       "    </tr>\n",
       "  </tbody>\n",
       "</table>\n",
       "<p>5 rows × 21 columns</p>\n",
       "</div>"
      ],
      "text/plain": [
       "           id        date     price  bedrooms  bathrooms  sqft_living  \\\n",
       "0  7129300520  10/13/2014  221900.0         3       1.00         1180   \n",
       "1  6414100192   12/9/2014  538000.0         3       2.25         2570   \n",
       "2  5631500400   2/25/2015  180000.0         2       1.00          770   \n",
       "3  2487200875   12/9/2014  604000.0         4       3.00         1960   \n",
       "4  1954400510   2/18/2015  510000.0         3       2.00         1680   \n",
       "\n",
       "   sqft_lot  floors  waterfront  view     ...      grade  sqft_above  \\\n",
       "0      5650     1.0         NaN   0.0     ...          7        1180   \n",
       "1      7242     2.0         0.0   0.0     ...          7        2170   \n",
       "2     10000     1.0         0.0   0.0     ...          6         770   \n",
       "3      5000     1.0         0.0   0.0     ...          7        1050   \n",
       "4      8080     1.0         0.0   0.0     ...          8        1680   \n",
       "\n",
       "   sqft_basement yr_built  yr_renovated  zipcode      lat     long  \\\n",
       "0            0.0     1955           0.0    98178  47.5112 -122.257   \n",
       "1          400.0     1951        1991.0    98125  47.7210 -122.319   \n",
       "2            0.0     1933           NaN    98028  47.7379 -122.233   \n",
       "3          910.0     1965           0.0    98136  47.5208 -122.393   \n",
       "4            0.0     1987           0.0    98074  47.6168 -122.045   \n",
       "\n",
       "   sqft_living15  sqft_lot15  \n",
       "0           1340        5650  \n",
       "1           1690        7639  \n",
       "2           2720        8062  \n",
       "3           1360        5000  \n",
       "4           1800        7503  \n",
       "\n",
       "[5 rows x 21 columns]"
      ]
     },
     "execution_count": 1,
     "metadata": {},
     "output_type": "execute_result"
    }
   ],
   "source": [
    "# Import Pandas and read in csv\n",
    "import pandas as pd\n",
    "df = pd.read_csv(\"kc_house_data.csv\")\n",
    "print(len(df))\n",
    "df.head()\n"
   ]
  },
  {
   "cell_type": "code",
   "execution_count": 2,
   "metadata": {
    "scrolled": true
   },
   "outputs": [
    {
     "data": {
      "text/html": [
       "<div>\n",
       "<style scoped>\n",
       "    .dataframe tbody tr th:only-of-type {\n",
       "        vertical-align: middle;\n",
       "    }\n",
       "\n",
       "    .dataframe tbody tr th {\n",
       "        vertical-align: top;\n",
       "    }\n",
       "\n",
       "    .dataframe thead th {\n",
       "        text-align: right;\n",
       "    }\n",
       "</style>\n",
       "<table border=\"1\" class=\"dataframe\">\n",
       "  <thead>\n",
       "    <tr style=\"text-align: right;\">\n",
       "      <th></th>\n",
       "      <th>id</th>\n",
       "      <th>price</th>\n",
       "      <th>bedrooms</th>\n",
       "      <th>bathrooms</th>\n",
       "      <th>sqft_living</th>\n",
       "      <th>sqft_lot</th>\n",
       "      <th>floors</th>\n",
       "      <th>waterfront</th>\n",
       "      <th>view</th>\n",
       "      <th>condition</th>\n",
       "      <th>grade</th>\n",
       "      <th>sqft_above</th>\n",
       "      <th>yr_built</th>\n",
       "      <th>yr_renovated</th>\n",
       "      <th>zipcode</th>\n",
       "      <th>lat</th>\n",
       "      <th>long</th>\n",
       "      <th>sqft_living15</th>\n",
       "      <th>sqft_lot15</th>\n",
       "    </tr>\n",
       "  </thead>\n",
       "  <tbody>\n",
       "    <tr>\n",
       "      <th>count</th>\n",
       "      <td>2.159700e+04</td>\n",
       "      <td>2.159700e+04</td>\n",
       "      <td>21597.000000</td>\n",
       "      <td>21597.000000</td>\n",
       "      <td>21597.000000</td>\n",
       "      <td>2.159700e+04</td>\n",
       "      <td>21597.000000</td>\n",
       "      <td>19221.000000</td>\n",
       "      <td>21534.000000</td>\n",
       "      <td>21597.000000</td>\n",
       "      <td>21597.000000</td>\n",
       "      <td>21597.000000</td>\n",
       "      <td>21597.000000</td>\n",
       "      <td>17755.000000</td>\n",
       "      <td>21597.000000</td>\n",
       "      <td>21597.000000</td>\n",
       "      <td>21597.000000</td>\n",
       "      <td>21597.000000</td>\n",
       "      <td>21597.000000</td>\n",
       "    </tr>\n",
       "    <tr>\n",
       "      <th>mean</th>\n",
       "      <td>4.580474e+09</td>\n",
       "      <td>5.402966e+05</td>\n",
       "      <td>3.373200</td>\n",
       "      <td>2.115826</td>\n",
       "      <td>2080.321850</td>\n",
       "      <td>1.509941e+04</td>\n",
       "      <td>1.494096</td>\n",
       "      <td>0.007596</td>\n",
       "      <td>0.233863</td>\n",
       "      <td>3.409825</td>\n",
       "      <td>7.657915</td>\n",
       "      <td>1788.596842</td>\n",
       "      <td>1970.999676</td>\n",
       "      <td>83.636778</td>\n",
       "      <td>98077.951845</td>\n",
       "      <td>47.560093</td>\n",
       "      <td>-122.213982</td>\n",
       "      <td>1986.620318</td>\n",
       "      <td>12758.283512</td>\n",
       "    </tr>\n",
       "    <tr>\n",
       "      <th>std</th>\n",
       "      <td>2.876736e+09</td>\n",
       "      <td>3.673681e+05</td>\n",
       "      <td>0.926299</td>\n",
       "      <td>0.768984</td>\n",
       "      <td>918.106125</td>\n",
       "      <td>4.141264e+04</td>\n",
       "      <td>0.539683</td>\n",
       "      <td>0.086825</td>\n",
       "      <td>0.765686</td>\n",
       "      <td>0.650546</td>\n",
       "      <td>1.173200</td>\n",
       "      <td>827.759761</td>\n",
       "      <td>29.375234</td>\n",
       "      <td>399.946414</td>\n",
       "      <td>53.513072</td>\n",
       "      <td>0.138552</td>\n",
       "      <td>0.140724</td>\n",
       "      <td>685.230472</td>\n",
       "      <td>27274.441950</td>\n",
       "    </tr>\n",
       "    <tr>\n",
       "      <th>min</th>\n",
       "      <td>1.000102e+06</td>\n",
       "      <td>7.800000e+04</td>\n",
       "      <td>1.000000</td>\n",
       "      <td>0.500000</td>\n",
       "      <td>370.000000</td>\n",
       "      <td>5.200000e+02</td>\n",
       "      <td>1.000000</td>\n",
       "      <td>0.000000</td>\n",
       "      <td>0.000000</td>\n",
       "      <td>1.000000</td>\n",
       "      <td>3.000000</td>\n",
       "      <td>370.000000</td>\n",
       "      <td>1900.000000</td>\n",
       "      <td>0.000000</td>\n",
       "      <td>98001.000000</td>\n",
       "      <td>47.155900</td>\n",
       "      <td>-122.519000</td>\n",
       "      <td>399.000000</td>\n",
       "      <td>651.000000</td>\n",
       "    </tr>\n",
       "    <tr>\n",
       "      <th>25%</th>\n",
       "      <td>2.123049e+09</td>\n",
       "      <td>3.220000e+05</td>\n",
       "      <td>3.000000</td>\n",
       "      <td>1.750000</td>\n",
       "      <td>1430.000000</td>\n",
       "      <td>5.040000e+03</td>\n",
       "      <td>1.000000</td>\n",
       "      <td>0.000000</td>\n",
       "      <td>0.000000</td>\n",
       "      <td>3.000000</td>\n",
       "      <td>7.000000</td>\n",
       "      <td>1190.000000</td>\n",
       "      <td>1951.000000</td>\n",
       "      <td>0.000000</td>\n",
       "      <td>98033.000000</td>\n",
       "      <td>47.471100</td>\n",
       "      <td>-122.328000</td>\n",
       "      <td>1490.000000</td>\n",
       "      <td>5100.000000</td>\n",
       "    </tr>\n",
       "    <tr>\n",
       "      <th>50%</th>\n",
       "      <td>3.904930e+09</td>\n",
       "      <td>4.500000e+05</td>\n",
       "      <td>3.000000</td>\n",
       "      <td>2.250000</td>\n",
       "      <td>1910.000000</td>\n",
       "      <td>7.618000e+03</td>\n",
       "      <td>1.500000</td>\n",
       "      <td>0.000000</td>\n",
       "      <td>0.000000</td>\n",
       "      <td>3.000000</td>\n",
       "      <td>7.000000</td>\n",
       "      <td>1560.000000</td>\n",
       "      <td>1975.000000</td>\n",
       "      <td>0.000000</td>\n",
       "      <td>98065.000000</td>\n",
       "      <td>47.571800</td>\n",
       "      <td>-122.231000</td>\n",
       "      <td>1840.000000</td>\n",
       "      <td>7620.000000</td>\n",
       "    </tr>\n",
       "    <tr>\n",
       "      <th>75%</th>\n",
       "      <td>7.308900e+09</td>\n",
       "      <td>6.450000e+05</td>\n",
       "      <td>4.000000</td>\n",
       "      <td>2.500000</td>\n",
       "      <td>2550.000000</td>\n",
       "      <td>1.068500e+04</td>\n",
       "      <td>2.000000</td>\n",
       "      <td>0.000000</td>\n",
       "      <td>0.000000</td>\n",
       "      <td>4.000000</td>\n",
       "      <td>8.000000</td>\n",
       "      <td>2210.000000</td>\n",
       "      <td>1997.000000</td>\n",
       "      <td>0.000000</td>\n",
       "      <td>98118.000000</td>\n",
       "      <td>47.678000</td>\n",
       "      <td>-122.125000</td>\n",
       "      <td>2360.000000</td>\n",
       "      <td>10083.000000</td>\n",
       "    </tr>\n",
       "    <tr>\n",
       "      <th>max</th>\n",
       "      <td>9.900000e+09</td>\n",
       "      <td>7.700000e+06</td>\n",
       "      <td>33.000000</td>\n",
       "      <td>8.000000</td>\n",
       "      <td>13540.000000</td>\n",
       "      <td>1.651359e+06</td>\n",
       "      <td>3.500000</td>\n",
       "      <td>1.000000</td>\n",
       "      <td>4.000000</td>\n",
       "      <td>5.000000</td>\n",
       "      <td>13.000000</td>\n",
       "      <td>9410.000000</td>\n",
       "      <td>2015.000000</td>\n",
       "      <td>2015.000000</td>\n",
       "      <td>98199.000000</td>\n",
       "      <td>47.777600</td>\n",
       "      <td>-121.315000</td>\n",
       "      <td>6210.000000</td>\n",
       "      <td>871200.000000</td>\n",
       "    </tr>\n",
       "  </tbody>\n",
       "</table>\n",
       "</div>"
      ],
      "text/plain": [
       "                 id         price      bedrooms     bathrooms   sqft_living  \\\n",
       "count  2.159700e+04  2.159700e+04  21597.000000  21597.000000  21597.000000   \n",
       "mean   4.580474e+09  5.402966e+05      3.373200      2.115826   2080.321850   \n",
       "std    2.876736e+09  3.673681e+05      0.926299      0.768984    918.106125   \n",
       "min    1.000102e+06  7.800000e+04      1.000000      0.500000    370.000000   \n",
       "25%    2.123049e+09  3.220000e+05      3.000000      1.750000   1430.000000   \n",
       "50%    3.904930e+09  4.500000e+05      3.000000      2.250000   1910.000000   \n",
       "75%    7.308900e+09  6.450000e+05      4.000000      2.500000   2550.000000   \n",
       "max    9.900000e+09  7.700000e+06     33.000000      8.000000  13540.000000   \n",
       "\n",
       "           sqft_lot        floors    waterfront          view     condition  \\\n",
       "count  2.159700e+04  21597.000000  19221.000000  21534.000000  21597.000000   \n",
       "mean   1.509941e+04      1.494096      0.007596      0.233863      3.409825   \n",
       "std    4.141264e+04      0.539683      0.086825      0.765686      0.650546   \n",
       "min    5.200000e+02      1.000000      0.000000      0.000000      1.000000   \n",
       "25%    5.040000e+03      1.000000      0.000000      0.000000      3.000000   \n",
       "50%    7.618000e+03      1.500000      0.000000      0.000000      3.000000   \n",
       "75%    1.068500e+04      2.000000      0.000000      0.000000      4.000000   \n",
       "max    1.651359e+06      3.500000      1.000000      4.000000      5.000000   \n",
       "\n",
       "              grade    sqft_above      yr_built  yr_renovated       zipcode  \\\n",
       "count  21597.000000  21597.000000  21597.000000  17755.000000  21597.000000   \n",
       "mean       7.657915   1788.596842   1970.999676     83.636778  98077.951845   \n",
       "std        1.173200    827.759761     29.375234    399.946414     53.513072   \n",
       "min        3.000000    370.000000   1900.000000      0.000000  98001.000000   \n",
       "25%        7.000000   1190.000000   1951.000000      0.000000  98033.000000   \n",
       "50%        7.000000   1560.000000   1975.000000      0.000000  98065.000000   \n",
       "75%        8.000000   2210.000000   1997.000000      0.000000  98118.000000   \n",
       "max       13.000000   9410.000000   2015.000000   2015.000000  98199.000000   \n",
       "\n",
       "                lat          long  sqft_living15     sqft_lot15  \n",
       "count  21597.000000  21597.000000   21597.000000   21597.000000  \n",
       "mean      47.560093   -122.213982    1986.620318   12758.283512  \n",
       "std        0.138552      0.140724     685.230472   27274.441950  \n",
       "min       47.155900   -122.519000     399.000000     651.000000  \n",
       "25%       47.471100   -122.328000    1490.000000    5100.000000  \n",
       "50%       47.571800   -122.231000    1840.000000    7620.000000  \n",
       "75%       47.678000   -122.125000    2360.000000   10083.000000  \n",
       "max       47.777600   -121.315000    6210.000000  871200.000000  "
      ]
     },
     "execution_count": 2,
     "metadata": {},
     "output_type": "execute_result"
    }
   ],
   "source": [
    "## Let's look at the distribution of the data \n",
    "df.describe()"
   ]
  },
  {
   "cell_type": "markdown",
   "metadata": {},
   "source": [
    "# Removing/Replacing NA's "
   ]
  },
  {
   "cell_type": "code",
   "execution_count": 3,
   "metadata": {
    "scrolled": true
   },
   "outputs": [
    {
     "data": {
      "text/plain": [
       "id                  0\n",
       "date                0\n",
       "price               0\n",
       "bedrooms            0\n",
       "bathrooms           0\n",
       "sqft_living         0\n",
       "sqft_lot            0\n",
       "floors              0\n",
       "waterfront       2376\n",
       "view               63\n",
       "condition           0\n",
       "grade               0\n",
       "sqft_above          0\n",
       "sqft_basement       0\n",
       "yr_built            0\n",
       "yr_renovated     3842\n",
       "zipcode             0\n",
       "lat                 0\n",
       "long                0\n",
       "sqft_living15       0\n",
       "sqft_lot15          0\n",
       "dtype: int64"
      ]
     },
     "execution_count": 3,
     "metadata": {},
     "output_type": "execute_result"
    }
   ],
   "source": [
    "# Glance at NAs\n",
    "nas = df.isna()\n",
    "nas.sum()"
   ]
  },
  {
   "cell_type": "markdown",
   "metadata": {},
   "source": [
    "<b> NA Results: </b> <br/>\n",
    "yr_renovated: 2842, 13% - since we're changing this to 0 & 1s, replace na's with zeroes <br/>\n",
    "view: 63 - so few and insignificant - let's remove them <br/>\n",
    "waterfront: 2376 - Let's check to see that this is categorical:"
   ]
  },
  {
   "cell_type": "code",
   "execution_count": 4,
   "metadata": {},
   "outputs": [
    {
     "data": {
      "text/plain": [
       "0.0    19075\n",
       "1.0      146\n",
       "Name: waterfront, dtype: int64"
      ]
     },
     "execution_count": 4,
     "metadata": {},
     "output_type": "execute_result"
    }
   ],
   "source": [
    "df.waterfront.value_counts()"
   ]
  },
  {
   "cell_type": "markdown",
   "metadata": {},
   "source": [
    "Great, since there is a large discrepenancy, let's replace the NA's with 0's and replace the rest of the NAs:"
   ]
  },
  {
   "cell_type": "code",
   "execution_count": 5,
   "metadata": {
    "scrolled": false
   },
   "outputs": [
    {
     "data": {
      "text/plain": [
       "id               0\n",
       "date             0\n",
       "price            0\n",
       "bedrooms         0\n",
       "bathrooms        0\n",
       "sqft_living      0\n",
       "sqft_lot         0\n",
       "floors           0\n",
       "waterfront       0\n",
       "view             0\n",
       "condition        0\n",
       "grade            0\n",
       "sqft_above       0\n",
       "sqft_basement    0\n",
       "yr_built         0\n",
       "yr_renovated     0\n",
       "zipcode          0\n",
       "lat              0\n",
       "long             0\n",
       "sqft_living15    0\n",
       "sqft_lot15       0\n",
       "dtype: int64"
      ]
     },
     "execution_count": 5,
     "metadata": {},
     "output_type": "execute_result"
    }
   ],
   "source": [
    "# Replace yr_renovated with 0's\n",
    "df['yr_renovated'] = df['yr_renovated'].fillna(0)\n",
    "# Replace Waterfront NA's with 0's\n",
    "df['waterfront'] = df['waterfront'].fillna(0)\n",
    "# convert to bool:\n",
    "df['waterfront'] = df['waterfront'].astype('int64')\n",
    "# Drop remaining views nas\n",
    "df = df.dropna()\n",
    "\n",
    "# Check that all na's are gone\n",
    "df.isna().sum()"
   ]
  },
  {
   "cell_type": "markdown",
   "metadata": {},
   "source": [
    "# Check for Placeholder or Extreme Values"
   ]
  },
  {
   "cell_type": "code",
   "execution_count": 6,
   "metadata": {
    "scrolled": false
   },
   "outputs": [
    {
     "name": "stdout",
     "output_type": "stream",
     "text": [
      "<class 'pandas.core.frame.DataFrame'>\n",
      "Int64Index: 21534 entries, 0 to 21596\n",
      "Data columns (total 21 columns):\n",
      "id               21534 non-null int64\n",
      "date             21534 non-null object\n",
      "price            21534 non-null float64\n",
      "bedrooms         21534 non-null int64\n",
      "bathrooms        21534 non-null float64\n",
      "sqft_living      21534 non-null int64\n",
      "sqft_lot         21534 non-null int64\n",
      "floors           21534 non-null float64\n",
      "waterfront       21534 non-null int64\n",
      "view             21534 non-null float64\n",
      "condition        21534 non-null int64\n",
      "grade            21534 non-null int64\n",
      "sqft_above       21534 non-null int64\n",
      "sqft_basement    21534 non-null object\n",
      "yr_built         21534 non-null int64\n",
      "yr_renovated     21534 non-null float64\n",
      "zipcode          21534 non-null int64\n",
      "lat              21534 non-null float64\n",
      "long             21534 non-null float64\n",
      "sqft_living15    21534 non-null int64\n",
      "sqft_lot15       21534 non-null int64\n",
      "dtypes: float64(7), int64(12), object(2)\n",
      "memory usage: 3.6+ MB\n"
     ]
    }
   ],
   "source": [
    "df.info()"
   ]
  },
  {
   "cell_type": "markdown",
   "metadata": {},
   "source": [
    "The first two jarring things are that date and sqft_basement are listed as objects. Let's look into sqft_basement further:"
   ]
  },
  {
   "cell_type": "code",
   "execution_count": 7,
   "metadata": {
    "scrolled": true
   },
   "outputs": [
    {
     "data": {
      "text/plain": [
       "0.0      12798\n",
       "?          452\n",
       "600.0      216\n",
       "500.0      209\n",
       "700.0      207\n",
       "Name: sqft_basement, dtype: int64"
      ]
     },
     "execution_count": 7,
     "metadata": {},
     "output_type": "execute_result"
    }
   ],
   "source": [
    "df.sqft_basement.value_counts().head()"
   ]
  },
  {
   "cell_type": "markdown",
   "metadata": {},
   "source": [
    " There are 12798 0's, implying no basement. There are also 452 ?'s. Let's remove teh 0's and convert sqft_basement to a float"
   ]
  },
  {
   "cell_type": "code",
   "execution_count": 8,
   "metadata": {
    "scrolled": true
   },
   "outputs": [],
   "source": [
    "df = df[df.sqft_basement != '?']\n",
    "df[\"sqft_basement\"] = pd.to_numeric(df.sqft_basement)"
   ]
  },
  {
   "cell_type": "markdown",
   "metadata": {},
   "source": [
    "Since there are so many 0's, it would be useful to create a binary variable that shows if the house has a basement or not, where 0 sqft implies no basement. "
   ]
  },
  {
   "cell_type": "code",
   "execution_count": 9,
   "metadata": {},
   "outputs": [],
   "source": [
    "# add a column for T/F has basement or not\n",
    "has_basement = []\n",
    "for basement in df[\"sqft_basement\"]:\n",
    "    if basement == 0:\n",
    "        has_basement.append(0)\n",
    "    else:\n",
    "        has_basement.append(1)\n",
    "df['has_basement'] = has_basement\n",
    "df = df.drop('sqft_basement', axis = 1)"
   ]
  },
  {
   "cell_type": "code",
   "execution_count": 10,
   "metadata": {
    "scrolled": false
   },
   "outputs": [
    {
     "data": {
      "text/html": [
       "<div>\n",
       "<style scoped>\n",
       "    .dataframe tbody tr th:only-of-type {\n",
       "        vertical-align: middle;\n",
       "    }\n",
       "\n",
       "    .dataframe tbody tr th {\n",
       "        vertical-align: top;\n",
       "    }\n",
       "\n",
       "    .dataframe thead th {\n",
       "        text-align: right;\n",
       "    }\n",
       "</style>\n",
       "<table border=\"1\" class=\"dataframe\">\n",
       "  <thead>\n",
       "    <tr style=\"text-align: right;\">\n",
       "      <th></th>\n",
       "      <th>id</th>\n",
       "      <th>price</th>\n",
       "      <th>bedrooms</th>\n",
       "      <th>bathrooms</th>\n",
       "      <th>sqft_living</th>\n",
       "      <th>sqft_lot</th>\n",
       "      <th>floors</th>\n",
       "      <th>waterfront</th>\n",
       "      <th>view</th>\n",
       "      <th>condition</th>\n",
       "      <th>grade</th>\n",
       "      <th>sqft_above</th>\n",
       "      <th>yr_built</th>\n",
       "      <th>yr_renovated</th>\n",
       "      <th>zipcode</th>\n",
       "      <th>lat</th>\n",
       "      <th>long</th>\n",
       "      <th>sqft_living15</th>\n",
       "      <th>sqft_lot15</th>\n",
       "      <th>has_basement</th>\n",
       "    </tr>\n",
       "  </thead>\n",
       "  <tbody>\n",
       "    <tr>\n",
       "      <th>count</th>\n",
       "      <td>2.108200e+04</td>\n",
       "      <td>2.108200e+04</td>\n",
       "      <td>21082.000000</td>\n",
       "      <td>21082.000000</td>\n",
       "      <td>21082.000000</td>\n",
       "      <td>2.108200e+04</td>\n",
       "      <td>21082.00000</td>\n",
       "      <td>21082.000000</td>\n",
       "      <td>21082.000000</td>\n",
       "      <td>21082.000000</td>\n",
       "      <td>21082.000000</td>\n",
       "      <td>21082.000000</td>\n",
       "      <td>21082.000000</td>\n",
       "      <td>21082.000000</td>\n",
       "      <td>21082.000000</td>\n",
       "      <td>21082.000000</td>\n",
       "      <td>21082.000000</td>\n",
       "      <td>21082.000000</td>\n",
       "      <td>21082.000000</td>\n",
       "      <td>21082.000000</td>\n",
       "    </tr>\n",
       "    <tr>\n",
       "      <th>mean</th>\n",
       "      <td>4.582793e+09</td>\n",
       "      <td>5.402469e+05</td>\n",
       "      <td>3.372403</td>\n",
       "      <td>2.115916</td>\n",
       "      <td>2080.359975</td>\n",
       "      <td>1.507759e+04</td>\n",
       "      <td>1.49362</td>\n",
       "      <td>0.006688</td>\n",
       "      <td>0.233327</td>\n",
       "      <td>3.409828</td>\n",
       "      <td>7.657717</td>\n",
       "      <td>1789.000000</td>\n",
       "      <td>1971.023337</td>\n",
       "      <td>68.359359</td>\n",
       "      <td>98077.858837</td>\n",
       "      <td>47.560371</td>\n",
       "      <td>-122.213843</td>\n",
       "      <td>1986.917418</td>\n",
       "      <td>12732.514135</td>\n",
       "      <td>0.392942</td>\n",
       "    </tr>\n",
       "    <tr>\n",
       "      <th>std</th>\n",
       "      <td>2.876423e+09</td>\n",
       "      <td>3.667323e+05</td>\n",
       "      <td>0.924996</td>\n",
       "      <td>0.768142</td>\n",
       "      <td>917.856396</td>\n",
       "      <td>4.117338e+04</td>\n",
       "      <td>0.53937</td>\n",
       "      <td>0.081509</td>\n",
       "      <td>0.765066</td>\n",
       "      <td>0.650597</td>\n",
       "      <td>1.173690</td>\n",
       "      <td>828.369355</td>\n",
       "      <td>29.323120</td>\n",
       "      <td>363.029573</td>\n",
       "      <td>53.528769</td>\n",
       "      <td>0.138568</td>\n",
       "      <td>0.140607</td>\n",
       "      <td>685.544250</td>\n",
       "      <td>27148.781580</td>\n",
       "      <td>0.488416</td>\n",
       "    </tr>\n",
       "    <tr>\n",
       "      <th>min</th>\n",
       "      <td>1.000102e+06</td>\n",
       "      <td>7.800000e+04</td>\n",
       "      <td>1.000000</td>\n",
       "      <td>0.500000</td>\n",
       "      <td>370.000000</td>\n",
       "      <td>5.200000e+02</td>\n",
       "      <td>1.00000</td>\n",
       "      <td>0.000000</td>\n",
       "      <td>0.000000</td>\n",
       "      <td>1.000000</td>\n",
       "      <td>3.000000</td>\n",
       "      <td>370.000000</td>\n",
       "      <td>1900.000000</td>\n",
       "      <td>0.000000</td>\n",
       "      <td>98001.000000</td>\n",
       "      <td>47.155900</td>\n",
       "      <td>-122.519000</td>\n",
       "      <td>399.000000</td>\n",
       "      <td>651.000000</td>\n",
       "      <td>0.000000</td>\n",
       "    </tr>\n",
       "    <tr>\n",
       "      <th>25%</th>\n",
       "      <td>2.123700e+09</td>\n",
       "      <td>3.220000e+05</td>\n",
       "      <td>3.000000</td>\n",
       "      <td>1.750000</td>\n",
       "      <td>1430.000000</td>\n",
       "      <td>5.040000e+03</td>\n",
       "      <td>1.00000</td>\n",
       "      <td>0.000000</td>\n",
       "      <td>0.000000</td>\n",
       "      <td>3.000000</td>\n",
       "      <td>7.000000</td>\n",
       "      <td>1200.000000</td>\n",
       "      <td>1952.000000</td>\n",
       "      <td>0.000000</td>\n",
       "      <td>98033.000000</td>\n",
       "      <td>47.471325</td>\n",
       "      <td>-122.328000</td>\n",
       "      <td>1490.000000</td>\n",
       "      <td>5100.000000</td>\n",
       "      <td>0.000000</td>\n",
       "    </tr>\n",
       "    <tr>\n",
       "      <th>50%</th>\n",
       "      <td>3.904970e+09</td>\n",
       "      <td>4.500000e+05</td>\n",
       "      <td>3.000000</td>\n",
       "      <td>2.250000</td>\n",
       "      <td>1910.000000</td>\n",
       "      <td>7.620000e+03</td>\n",
       "      <td>1.50000</td>\n",
       "      <td>0.000000</td>\n",
       "      <td>0.000000</td>\n",
       "      <td>3.000000</td>\n",
       "      <td>7.000000</td>\n",
       "      <td>1560.000000</td>\n",
       "      <td>1975.000000</td>\n",
       "      <td>0.000000</td>\n",
       "      <td>98065.000000</td>\n",
       "      <td>47.572200</td>\n",
       "      <td>-122.230000</td>\n",
       "      <td>1840.000000</td>\n",
       "      <td>7626.000000</td>\n",
       "      <td>0.000000</td>\n",
       "    </tr>\n",
       "    <tr>\n",
       "      <th>75%</th>\n",
       "      <td>7.312200e+09</td>\n",
       "      <td>6.450000e+05</td>\n",
       "      <td>4.000000</td>\n",
       "      <td>2.500000</td>\n",
       "      <td>2550.000000</td>\n",
       "      <td>1.069775e+04</td>\n",
       "      <td>2.00000</td>\n",
       "      <td>0.000000</td>\n",
       "      <td>0.000000</td>\n",
       "      <td>4.000000</td>\n",
       "      <td>8.000000</td>\n",
       "      <td>2210.000000</td>\n",
       "      <td>1997.000000</td>\n",
       "      <td>0.000000</td>\n",
       "      <td>98117.000000</td>\n",
       "      <td>47.678200</td>\n",
       "      <td>-122.125000</td>\n",
       "      <td>2360.000000</td>\n",
       "      <td>10088.750000</td>\n",
       "      <td>1.000000</td>\n",
       "    </tr>\n",
       "    <tr>\n",
       "      <th>max</th>\n",
       "      <td>9.900000e+09</td>\n",
       "      <td>7.700000e+06</td>\n",
       "      <td>33.000000</td>\n",
       "      <td>8.000000</td>\n",
       "      <td>13540.000000</td>\n",
       "      <td>1.651359e+06</td>\n",
       "      <td>3.50000</td>\n",
       "      <td>1.000000</td>\n",
       "      <td>4.000000</td>\n",
       "      <td>5.000000</td>\n",
       "      <td>13.000000</td>\n",
       "      <td>9410.000000</td>\n",
       "      <td>2015.000000</td>\n",
       "      <td>2015.000000</td>\n",
       "      <td>98199.000000</td>\n",
       "      <td>47.777600</td>\n",
       "      <td>-121.315000</td>\n",
       "      <td>6210.000000</td>\n",
       "      <td>871200.000000</td>\n",
       "      <td>1.000000</td>\n",
       "    </tr>\n",
       "  </tbody>\n",
       "</table>\n",
       "</div>"
      ],
      "text/plain": [
       "                 id         price      bedrooms     bathrooms   sqft_living  \\\n",
       "count  2.108200e+04  2.108200e+04  21082.000000  21082.000000  21082.000000   \n",
       "mean   4.582793e+09  5.402469e+05      3.372403      2.115916   2080.359975   \n",
       "std    2.876423e+09  3.667323e+05      0.924996      0.768142    917.856396   \n",
       "min    1.000102e+06  7.800000e+04      1.000000      0.500000    370.000000   \n",
       "25%    2.123700e+09  3.220000e+05      3.000000      1.750000   1430.000000   \n",
       "50%    3.904970e+09  4.500000e+05      3.000000      2.250000   1910.000000   \n",
       "75%    7.312200e+09  6.450000e+05      4.000000      2.500000   2550.000000   \n",
       "max    9.900000e+09  7.700000e+06     33.000000      8.000000  13540.000000   \n",
       "\n",
       "           sqft_lot       floors    waterfront          view     condition  \\\n",
       "count  2.108200e+04  21082.00000  21082.000000  21082.000000  21082.000000   \n",
       "mean   1.507759e+04      1.49362      0.006688      0.233327      3.409828   \n",
       "std    4.117338e+04      0.53937      0.081509      0.765066      0.650597   \n",
       "min    5.200000e+02      1.00000      0.000000      0.000000      1.000000   \n",
       "25%    5.040000e+03      1.00000      0.000000      0.000000      3.000000   \n",
       "50%    7.620000e+03      1.50000      0.000000      0.000000      3.000000   \n",
       "75%    1.069775e+04      2.00000      0.000000      0.000000      4.000000   \n",
       "max    1.651359e+06      3.50000      1.000000      4.000000      5.000000   \n",
       "\n",
       "              grade    sqft_above      yr_built  yr_renovated       zipcode  \\\n",
       "count  21082.000000  21082.000000  21082.000000  21082.000000  21082.000000   \n",
       "mean       7.657717   1789.000000   1971.023337     68.359359  98077.858837   \n",
       "std        1.173690    828.369355     29.323120    363.029573     53.528769   \n",
       "min        3.000000    370.000000   1900.000000      0.000000  98001.000000   \n",
       "25%        7.000000   1200.000000   1952.000000      0.000000  98033.000000   \n",
       "50%        7.000000   1560.000000   1975.000000      0.000000  98065.000000   \n",
       "75%        8.000000   2210.000000   1997.000000      0.000000  98117.000000   \n",
       "max       13.000000   9410.000000   2015.000000   2015.000000  98199.000000   \n",
       "\n",
       "                lat          long  sqft_living15     sqft_lot15  has_basement  \n",
       "count  21082.000000  21082.000000   21082.000000   21082.000000  21082.000000  \n",
       "mean      47.560371   -122.213843    1986.917418   12732.514135      0.392942  \n",
       "std        0.138568      0.140607     685.544250   27148.781580      0.488416  \n",
       "min       47.155900   -122.519000     399.000000     651.000000      0.000000  \n",
       "25%       47.471325   -122.328000    1490.000000    5100.000000      0.000000  \n",
       "50%       47.572200   -122.230000    1840.000000    7626.000000      0.000000  \n",
       "75%       47.678200   -122.125000    2360.000000   10088.750000      1.000000  \n",
       "max       47.777600   -121.315000    6210.000000  871200.000000      1.000000  "
      ]
     },
     "execution_count": 10,
     "metadata": {},
     "output_type": "execute_result"
    }
   ],
   "source": [
    "# Let's look at the distribution of the dataframe again and see if there are any values that seem out of the ordinary\n",
    "df.describe()"
   ]
  },
  {
   "cell_type": "markdown",
   "metadata": {},
   "source": [
    "<b>There are a few things that still seem out of the ordinary:</b>\n",
    "<br/>\n",
    "    33 Bedrooms seems unfathomable\n",
    "<br/>\n",
    "    Yr_Renovated has many 0's - probably standing for a house that was not renovated. Let's change this to a binary variable instead\n",
    "<br/>\n",
    "    We should also check the categories of the following: view, condition, grade, and zipcode\n",
    "    <br/>\n",
    "    <br/>\n",
    "First let's look at 33 Bedrooms:\n"
   ]
  },
  {
   "cell_type": "code",
   "execution_count": 11,
   "metadata": {},
   "outputs": [
    {
     "data": {
      "text/plain": [
       "3     9607\n",
       "4     6724\n",
       "2     2685\n",
       "5     1555\n",
       "6      260\n",
       "1      191\n",
       "7       36\n",
       "8       13\n",
       "9        6\n",
       "10       3\n",
       "11       1\n",
       "33       1\n",
       "Name: bedrooms, dtype: int64"
      ]
     },
     "execution_count": 11,
     "metadata": {},
     "output_type": "execute_result"
    }
   ],
   "source": [
    "df.bedrooms.value_counts()"
   ]
  },
  {
   "cell_type": "markdown",
   "metadata": {},
   "source": [
    "Let's look closer at this one value of 33 bedrooms:"
   ]
  },
  {
   "cell_type": "code",
   "execution_count": 12,
   "metadata": {
    "scrolled": false
   },
   "outputs": [
    {
     "data": {
      "text/html": [
       "<div>\n",
       "<style scoped>\n",
       "    .dataframe tbody tr th:only-of-type {\n",
       "        vertical-align: middle;\n",
       "    }\n",
       "\n",
       "    .dataframe tbody tr th {\n",
       "        vertical-align: top;\n",
       "    }\n",
       "\n",
       "    .dataframe thead th {\n",
       "        text-align: right;\n",
       "    }\n",
       "</style>\n",
       "<table border=\"1\" class=\"dataframe\">\n",
       "  <thead>\n",
       "    <tr style=\"text-align: right;\">\n",
       "      <th></th>\n",
       "      <th>id</th>\n",
       "      <th>date</th>\n",
       "      <th>price</th>\n",
       "      <th>bedrooms</th>\n",
       "      <th>bathrooms</th>\n",
       "      <th>sqft_living</th>\n",
       "      <th>sqft_lot</th>\n",
       "      <th>floors</th>\n",
       "      <th>waterfront</th>\n",
       "      <th>view</th>\n",
       "      <th>...</th>\n",
       "      <th>grade</th>\n",
       "      <th>sqft_above</th>\n",
       "      <th>yr_built</th>\n",
       "      <th>yr_renovated</th>\n",
       "      <th>zipcode</th>\n",
       "      <th>lat</th>\n",
       "      <th>long</th>\n",
       "      <th>sqft_living15</th>\n",
       "      <th>sqft_lot15</th>\n",
       "      <th>has_basement</th>\n",
       "    </tr>\n",
       "  </thead>\n",
       "  <tbody>\n",
       "    <tr>\n",
       "      <th>15856</th>\n",
       "      <td>2402100895</td>\n",
       "      <td>6/25/2014</td>\n",
       "      <td>640000.0</td>\n",
       "      <td>33</td>\n",
       "      <td>1.75</td>\n",
       "      <td>1620</td>\n",
       "      <td>6000</td>\n",
       "      <td>1.0</td>\n",
       "      <td>0</td>\n",
       "      <td>0.0</td>\n",
       "      <td>...</td>\n",
       "      <td>7</td>\n",
       "      <td>1040</td>\n",
       "      <td>1947</td>\n",
       "      <td>0.0</td>\n",
       "      <td>98103</td>\n",
       "      <td>47.6878</td>\n",
       "      <td>-122.331</td>\n",
       "      <td>1330</td>\n",
       "      <td>4700</td>\n",
       "      <td>1</td>\n",
       "    </tr>\n",
       "  </tbody>\n",
       "</table>\n",
       "<p>1 rows × 21 columns</p>\n",
       "</div>"
      ],
      "text/plain": [
       "               id       date     price  bedrooms  bathrooms  sqft_living  \\\n",
       "15856  2402100895  6/25/2014  640000.0        33       1.75         1620   \n",
       "\n",
       "       sqft_lot  floors  waterfront  view      ...       grade  sqft_above  \\\n",
       "15856      6000     1.0           0   0.0      ...           7        1040   \n",
       "\n",
       "       yr_built  yr_renovated  zipcode      lat     long  sqft_living15  \\\n",
       "15856      1947           0.0    98103  47.6878 -122.331           1330   \n",
       "\n",
       "       sqft_lot15  has_basement  \n",
       "15856        4700             1  \n",
       "\n",
       "[1 rows x 21 columns]"
      ]
     },
     "execution_count": 12,
     "metadata": {},
     "output_type": "execute_result"
    }
   ],
   "source": [
    "df.loc[df[\"bedrooms\"] >30]"
   ]
  },
  {
   "cell_type": "markdown",
   "metadata": {},
   "source": [
    "Clearly this is a mistake if there's only 1.75 bathrooms to 33 bedrooms... I vote to remove from dataset:"
   ]
  },
  {
   "cell_type": "code",
   "execution_count": 13,
   "metadata": {},
   "outputs": [],
   "source": [
    "df = df[df.bedrooms != 33]"
   ]
  },
  {
   "cell_type": "markdown",
   "metadata": {},
   "source": [
    "Next, yr_renovated had a lot of 0's so let's check out the value counts"
   ]
  },
  {
   "cell_type": "code",
   "execution_count": 14,
   "metadata": {},
   "outputs": [
    {
     "data": {
      "text/plain": [
       "0.0       20359\n",
       "2014.0       69\n",
       "2003.0       31\n",
       "2013.0       31\n",
       "2007.0       30\n",
       "Name: yr_renovated, dtype: int64"
      ]
     },
     "execution_count": 14,
     "metadata": {},
     "output_type": "execute_result"
    }
   ],
   "source": [
    "df.yr_renovated.value_counts().head()\n",
    "# Output: year renovated has many 0's - implying 0 if it was not renovated \n"
   ]
  },
  {
   "cell_type": "markdown",
   "metadata": {},
   "source": [
    "Let's change this column to a boolean of if it was renovated or not and drop the original column"
   ]
  },
  {
   "cell_type": "code",
   "execution_count": 15,
   "metadata": {},
   "outputs": [],
   "source": [
    "is_renovated = []\n",
    "for year in df[\"yr_renovated\"]:\n",
    "    if year == 0:\n",
    "        is_renovated.append(0)\n",
    "    else:\n",
    "        is_renovated.append(1)\n",
    "df['is_renovated'] = is_renovated\n",
    "\n",
    "# drop yr_renovated\n",
    "df = df.drop('yr_renovated', axis = 1)"
   ]
  },
  {
   "cell_type": "markdown",
   "metadata": {},
   "source": [
    "Checking categories of grade:"
   ]
  },
  {
   "cell_type": "code",
   "execution_count": 16,
   "metadata": {
    "scrolled": true
   },
   "outputs": [
    {
     "data": {
      "text/plain": [
       "7     8761\n",
       "8     5922\n",
       "9     2546\n",
       "6     1991\n",
       "10    1108\n",
       "11     389\n",
       "5      235\n",
       "12      88\n",
       "4       27\n",
       "13      13\n",
       "3        1\n",
       "Name: grade, dtype: int64"
      ]
     },
     "execution_count": 16,
     "metadata": {},
     "output_type": "execute_result"
    }
   ],
   "source": [
    "df.grade.value_counts()"
   ]
  },
  {
   "cell_type": "markdown",
   "metadata": {},
   "source": [
    "Since there's only one entry with a grade of 3, let's drop it:"
   ]
  },
  {
   "cell_type": "code",
   "execution_count": 17,
   "metadata": {},
   "outputs": [],
   "source": [
    "df = df[df.grade != 3]"
   ]
  },
  {
   "cell_type": "markdown",
   "metadata": {},
   "source": [
    "Next, let's check the categories of View:"
   ]
  },
  {
   "cell_type": "code",
   "execution_count": 18,
   "metadata": {
    "scrolled": true
   },
   "outputs": [
    {
     "data": {
      "text/plain": [
       "0.0    19016\n",
       "2.0      930\n",
       "3.0      496\n",
       "1.0      327\n",
       "4.0      311\n",
       "Name: view, dtype: int64"
      ]
     },
     "execution_count": 18,
     "metadata": {},
     "output_type": "execute_result"
    }
   ],
   "source": [
    "df.view.value_counts()"
   ]
  },
  {
   "cell_type": "markdown",
   "metadata": {},
   "source": [
    "View is a range 0,1,2,3,4, majority of which are in 0 (19422), so it would probably be more useful for view to be binary- as in has viewed not has viewed, and drop the original column"
   ]
  },
  {
   "cell_type": "code",
   "execution_count": 19,
   "metadata": {},
   "outputs": [],
   "source": [
    "is_viewed = []\n",
    "for view in df['view']:\n",
    "    if view == 0:\n",
    "        is_viewed.append(0)\n",
    "    else:\n",
    "        is_viewed.append(1)\n",
    "\n",
    "df['is_viewed'] = is_viewed\n",
    "\n",
    "#drop view\n",
    "df = df.drop('view', axis = 1)"
   ]
  },
  {
   "cell_type": "markdown",
   "metadata": {},
   "source": [
    "Next, I want to see if there's a way to change zipcodes into something more meaningful"
   ]
  },
  {
   "cell_type": "code",
   "execution_count": 20,
   "metadata": {},
   "outputs": [
    {
     "data": {
      "text/plain": [
       "70"
      ]
     },
     "execution_count": 20,
     "metadata": {},
     "output_type": "execute_result"
    }
   ],
   "source": [
    "len(df.zipcode.value_counts())"
   ]
  },
  {
   "cell_type": "markdown",
   "metadata": {},
   "source": [
    "There are 70 possible zipcodes, which would be too messy to make a categorical variable. Instead, I will group the zipcodes by their price means as a way of putting value to the zipcode without making it categorical"
   ]
  },
  {
   "cell_type": "code",
   "execution_count": 21,
   "metadata": {
    "scrolled": true
   },
   "outputs": [],
   "source": [
    "zip_means = df.groupby('zipcode')['price'].mean()\n",
    "df['zip_means'] = df.zipcode.map(zip_means)\n",
    "df = df.drop('zipcode', axis = 1)\n"
   ]
  },
  {
   "cell_type": "code",
   "execution_count": 22,
   "metadata": {},
   "outputs": [],
   "source": [
    "# Cast as Category\n",
    "# df['zip_means'] = df.zip_means.astype('category')"
   ]
  },
  {
   "cell_type": "markdown",
   "metadata": {},
   "source": [
    "Since this is now our main indicator of location, let's drop lat and long"
   ]
  },
  {
   "cell_type": "code",
   "execution_count": 23,
   "metadata": {},
   "outputs": [],
   "source": [
    "df = df.drop(labels = ['lat', 'long'], axis = 1)"
   ]
  },
  {
   "cell_type": "markdown",
   "metadata": {},
   "source": [
    "Next, since there is seasonailty in the housing market I want to convert date into a non-object, and then into months"
   ]
  },
  {
   "cell_type": "code",
   "execution_count": 24,
   "metadata": {},
   "outputs": [],
   "source": [
    "## convert to date.time so it's no longer an object\n",
    "df.date = pd.to_datetime(df.date)\n",
    "\n",
    "# Convert as a categorical variable\n",
    "df['month'] = df.date.dt.month_name().astype('category')\n",
    "df.drop('date', axis = 1, inplace = True)\n"
   ]
  },
  {
   "cell_type": "code",
   "execution_count": 25,
   "metadata": {},
   "outputs": [],
   "source": [
    "# Convert months to dummies and add to DF\n",
    "month_dummy = pd.get_dummies(df.month)\n",
    "df = df.drop([ 'month'], axis = 1)\n",
    "df =  pd.concat([df,  month_dummy], axis=1)"
   ]
  },
  {
   "cell_type": "markdown",
   "metadata": {},
   "source": [
    "Next since sqft_living = sqft_above + sqft_basement, I want to drop sqft_living"
   ]
  },
  {
   "cell_type": "code",
   "execution_count": 26,
   "metadata": {},
   "outputs": [],
   "source": [
    "df = df.drop('sqft_living', axis = 1)"
   ]
  },
  {
   "cell_type": "markdown",
   "metadata": {},
   "source": [
    "Finally, let's check for duplicate ids and remove them if necessary"
   ]
  },
  {
   "cell_type": "code",
   "execution_count": 27,
   "metadata": {},
   "outputs": [
    {
     "data": {
      "text/plain": [
       "345"
      ]
     },
     "execution_count": 27,
     "metadata": {},
     "output_type": "execute_result"
    }
   ],
   "source": [
    "copies = pd.concat(g for _, g in df.groupby(\"id\") if len(g) > 1)\n",
    "len(copies)"
   ]
  },
  {
   "cell_type": "markdown",
   "metadata": {},
   "source": [
    "Since there are only 345 duplicates, let's go ahead and delete them since it's a small portion of the overall dataset"
   ]
  },
  {
   "cell_type": "code",
   "execution_count": 28,
   "metadata": {},
   "outputs": [],
   "source": [
    "df = df.reset_index().drop_duplicates(subset = 'id', keep = False)\n",
    "df['id'] = df.id.astype('int')\n",
    "df = df.set_index('id')"
   ]
  },
  {
   "cell_type": "markdown",
   "metadata": {},
   "source": [
    "# Looking at Numerical Variables\n",
    "So far, the categorical variables we found were waterfront and view. We also added month, has_basement, and is_renovated.\n",
    "\n"
   ]
  },
  {
   "cell_type": "code",
   "execution_count": 29,
   "metadata": {
    "scrolled": true
   },
   "outputs": [
    {
     "data": {
      "text/plain": [
       "Index(['index', 'price', 'bedrooms', 'bathrooms', 'sqft_lot', 'floors',\n",
       "       'waterfront', 'condition', 'grade', 'sqft_above', 'yr_built',\n",
       "       'sqft_living15', 'sqft_lot15', 'has_basement', 'is_renovated',\n",
       "       'is_viewed', 'zip_means', 'April', 'August', 'December', 'February',\n",
       "       'January', 'July', 'June', 'March', 'May', 'November', 'October',\n",
       "       'September'],\n",
       "      dtype='object')"
      ]
     },
     "execution_count": 29,
     "metadata": {},
     "output_type": "execute_result"
    }
   ],
   "source": [
    "df.columns"
   ]
  },
  {
   "cell_type": "markdown",
   "metadata": {},
   "source": [
    "Let's plot the remaining numerical variables to see if there are any visible trends"
   ]
  },
  {
   "cell_type": "code",
   "execution_count": 30,
   "metadata": {},
   "outputs": [
    {
     "data": {
      "image/png": "[encoded data removed]",
      "text/plain": [
       "<Figure size 1152x216 with 6 Axes>"
      ]
     },
     "metadata": {
      "needs_background": "light"
     },
     "output_type": "display_data"
    }
   ],
   "source": [
    "import matplotlib.pyplot as plt\n",
    "%matplotlib inline \n",
    "\n",
    "feature_cols = ['bedrooms', 'bathrooms', 'sqft_lot', 'floors',\n",
    "        'condition', 'grade', 'sqft_above', 'yr_built','sqft_living15', 'sqft_lot15', 'price', 'zip_means']\n",
    "\n",
    "fig, axes = plt.subplots(nrows=1, ncols=6, figsize=(16,3))\n",
    "\n",
    "for xcol, ax in zip(list(feature_cols)[0:6], axes):\n",
    "    df.plot(kind='scatter', x= xcol, y=\"price\", ax=ax, alpha=0.4, color='b')"
   ]
  },
  {
   "cell_type": "code",
   "execution_count": 31,
   "metadata": {},
   "outputs": [
    {
     "data": {
      "image/png": "[encoded data removed]",
      "text/plain": [
       "<Figure size 1152x216 with 6 Axes>"
      ]
     },
     "metadata": {
      "needs_background": "light"
     },
     "output_type": "display_data"
    }
   ],
   "source": [
    "fig, axes = plt.subplots(nrows=1, ncols=6, figsize=(16,3))\n",
    "\n",
    "for xcol, ax in zip(list(feature_cols)[6:12], axes):\n",
    "    df.plot(kind='scatter', x= xcol, y=\"price\", ax=ax, alpha=0.4, color='b')"
   ]
  },
  {
   "cell_type": "markdown",
   "metadata": {},
   "source": [
    "Immediately we can see that Bedrooms, Floors, and Bathrooms are interesting. \n",
    "Bedrooms and bathrooms should be categorical.\n",
    "<br/>\n",
    "<br/>\n",
    "Below, we transfrom  bedrooms and bathrooms to categorical variables. "
   ]
  },
  {
   "cell_type": "markdown",
   "metadata": {},
   "source": [
    "Check correlation of these variables re. price"
   ]
  },
  {
   "cell_type": "code",
   "execution_count": 32,
   "metadata": {},
   "outputs": [
    {
     "data": {
      "text/plain": [
       "price            1.000000\n",
       "grade            0.667133\n",
       "zip_means        0.638218\n",
       "sqft_above       0.604278\n",
       "sqft_living15    0.584299\n",
       "bathrooms        0.524305\n",
       "bedrooms         0.317375\n",
       "floors           0.254192\n",
       "sqft_lot         0.086487\n",
       "sqft_lot15       0.082318\n",
       "yr_built         0.050814\n",
       "condition        0.031658\n",
       "Name: price, dtype: float64"
      ]
     },
     "execution_count": 32,
     "metadata": {},
     "output_type": "execute_result"
    }
   ],
   "source": [
    "df[feature_cols].corr().price.sort_values(ascending = False)"
   ]
  },
  {
   "cell_type": "code",
   "execution_count": 33,
   "metadata": {},
   "outputs": [],
   "source": [
    "df1 = df.copy()"
   ]
  },
  {
   "cell_type": "code",
   "execution_count": 34,
   "metadata": {},
   "outputs": [
    {
     "data": {
      "text/plain": [
       "id\n",
       "7129300520     (2, 3]\n",
       "6414100192     (2, 3]\n",
       "5631500400     (0, 2]\n",
       "2487200875    (3, 11]\n",
       "1954400510     (2, 3]\n",
       "Name: bedrooms, dtype: category\n",
       "Categories (3, interval[int64]): [(0, 2], (2, 3], (3, 11]]"
      ]
     },
     "execution_count": 34,
     "metadata": {},
     "output_type": "execute_result"
    },
    {
     "data": {
      "image/png": "[encoded data removed]",
      "text/plain": [
       "<Figure size 432x288 with 1 Axes>"
      ]
     },
     "metadata": {
      "needs_background": "light"
     },
     "output_type": "display_data"
    }
   ],
   "source": [
    "# Bedrooms to Bins\n",
    "bins = [0,2,3,11]\n",
    "bins_br = pd.cut(df1['bedrooms'], bins, right = True)\n",
    "bins_br = bins_br.cat.as_unordered()\n",
    "bins_br.value_counts().plot(kind = 'bar')\n",
    "bins_br.head()"
   ]
  },
  {
   "cell_type": "code",
   "execution_count": 35,
   "metadata": {},
   "outputs": [],
   "source": [
    "df1['bedrooms'] = bins_br"
   ]
  },
  {
   "cell_type": "code",
   "execution_count": 36,
   "metadata": {
    "scrolled": false
   },
   "outputs": [
    {
     "data": {
      "text/plain": [
       "count    20735.000000\n",
       "mean         2.121232\n",
       "std          0.768009\n",
       "min          0.500000\n",
       "25%          1.750000\n",
       "50%          2.250000\n",
       "75%          2.500000\n",
       "max          8.000000\n",
       "Name: bathrooms, dtype: float64"
      ]
     },
     "execution_count": 36,
     "metadata": {},
     "output_type": "execute_result"
    }
   ],
   "source": [
    "df1.bathrooms.describe()"
   ]
  },
  {
   "cell_type": "code",
   "execution_count": 37,
   "metadata": {},
   "outputs": [],
   "source": [
    "# Bathrooms to Bins\n",
    "# bins = [0,2,3,4,9]\n",
    "# bins_bath = pd.cut(df1['bathrooms'], bins, right = True)\n",
    "# bins_bath = bins_br.cat.as_unordered()\n",
    "# bins_bath.value_counts().plot(kind = 'bar')\n",
    "# bins_bath.head()"
   ]
  },
  {
   "cell_type": "code",
   "execution_count": 38,
   "metadata": {},
   "outputs": [],
   "source": [
    "# df1['bathrooms'] = bins_bath"
   ]
  },
  {
   "cell_type": "code",
   "execution_count": 39,
   "metadata": {},
   "outputs": [],
   "source": [
    "bedrooms_dummy = pd.get_dummies(bins_br, prefix = 'bedrooms')\n",
    "# bathrooms_dummy = pd.get_dummies(bins_bath, prefix = 'bathrooms')"
   ]
  },
  {
   "cell_type": "code",
   "execution_count": 40,
   "metadata": {},
   "outputs": [],
   "source": [
    "df1 = df1.drop(['bedrooms'], axis = 1)\n",
    "df1 =  pd.concat([df1, bedrooms_dummy], axis=1)"
   ]
  },
  {
   "cell_type": "code",
   "execution_count": 41,
   "metadata": {},
   "outputs": [
    {
     "data": {
      "text/plain": [
       "Index(['index', 'price', 'bathrooms', 'sqft_lot', 'floors', 'waterfront',\n",
       "       'condition', 'grade', 'sqft_above', 'yr_built', 'sqft_living15',\n",
       "       'sqft_lot15', 'has_basement', 'is_renovated', 'is_viewed', 'zip_means',\n",
       "       'April', 'August', 'December', 'February', 'January', 'July', 'June',\n",
       "       'March', 'May', 'November', 'October', 'September', 'bedrooms_(0, 2]',\n",
       "       'bedrooms_(2, 3]', 'bedrooms_(3, 11]'],\n",
       "      dtype='object')"
      ]
     },
     "execution_count": 41,
     "metadata": {},
     "output_type": "execute_result"
    }
   ],
   "source": [
    "df1.columns"
   ]
  },
  {
   "cell_type": "markdown",
   "metadata": {},
   "source": [
    "# Look at Numerical Variables\n",
    "Now that we've converted some of our variables to categories, let's explore the remaining continuous variables. <br/>\n",
    "We can start by looking at a scatter matrix to see general trends, and to check for collinearity. "
   ]
  },
  {
   "cell_type": "code",
   "execution_count": 42,
   "metadata": {
    "scrolled": false
   },
   "outputs": [
    {
     "data": {
      "text/plain": [
       "Index(['index', 'price', 'bathrooms', 'sqft_lot', 'floors', 'waterfront',\n",
       "       'condition', 'grade', 'sqft_above', 'yr_built', 'sqft_living15',\n",
       "       'sqft_lot15', 'has_basement', 'is_renovated', 'is_viewed', 'zip_means',\n",
       "       'April', 'August', 'December', 'February', 'January', 'July', 'June',\n",
       "       'March', 'May', 'November', 'October', 'September', 'bedrooms_(0, 2]',\n",
       "       'bedrooms_(2, 3]', 'bedrooms_(3, 11]'],\n",
       "      dtype='object')"
      ]
     },
     "execution_count": 42,
     "metadata": {},
     "output_type": "execute_result"
    }
   ],
   "source": [
    "df1.columns\n"
   ]
  },
  {
   "cell_type": "code",
   "execution_count": 43,
   "metadata": {},
   "outputs": [],
   "source": [
    "cat_cols = ['waterfront', 'has_basement', 'is_renovated', 'is_viewed',\n",
    "       'April', 'August', 'December', 'February', 'January', 'July', 'June',\n",
    "       'March', 'May', 'November', 'October', 'September', 'bedrooms_(0, 2]', 'bedrooms_(2, 3]', 'bedrooms_(3, 11]']\n",
    "df_cat = df1[cat_cols].copy()"
   ]
  },
  {
   "cell_type": "code",
   "execution_count": 44,
   "metadata": {},
   "outputs": [],
   "source": [
    "num_cols = ['sqft_lot','floors', 'condition', 'grade', 'sqft_above',\n",
    "        'yr_built', 'sqft_living15','sqft_lot15', 'bathrooms', 'zip_means']\n",
    "df_num = df1[num_cols].copy()\n"
   ]
  },
  {
   "cell_type": "markdown",
   "metadata": {},
   "source": [
    "# Checking Normality of Variables and Performing Transformations"
   ]
  },
  {
   "cell_type": "markdown",
   "metadata": {},
   "source": [
    "Transform Numerical Features "
   ]
  },
  {
   "cell_type": "code",
   "execution_count": 45,
   "metadata": {},
   "outputs": [
    {
     "data": {
      "image/png": "[encoded data removed]",
      "text/plain": [
       "<Figure size 576x576 with 12 Axes>"
      ]
     },
     "metadata": {
      "needs_background": "light"
     },
     "output_type": "display_data"
    }
   ],
   "source": [
    "df_num.hist(figsize = [8,8]);"
   ]
  },
  {
   "cell_type": "code",
   "execution_count": 46,
   "metadata": {},
   "outputs": [
    {
     "data": {
      "image/png": "[encoded data removed]",
      "text/plain": [
       "<Figure size 576x576 with 12 Axes>"
      ]
     },
     "metadata": {
      "needs_background": "light"
     },
     "output_type": "display_data"
    }
   ],
   "source": [
    "import numpy as np\n",
    "\n",
    "# sqft_living = df_num['sqft_living']\n",
    "sqft_lot = df_num['sqft_lot']\n",
    "floors = df_num['floors']\n",
    "condition = df_num['condition']\n",
    "grade =df_num['grade']\n",
    "sqft_above = df_num['sqft_above']\n",
    "# sqft_basement = df_num['sqft_basement']\n",
    "yr_built = df_num['yr_built'] \n",
    "sqft_living15 = df_num['sqft_living15']\n",
    "sqft_lot15 = df_num['sqft_lot15']\n",
    "bathrooms = df_num['bathrooms']\n",
    "zip_means = df_num['zip_means']\n",
    "colz = [ sqft_lot,floors, condition, grade, sqft_above,\n",
    "        yr_built, sqft_living15,sqft_lot15, bathrooms, zip_means]\n",
    "\n",
    "# log transform function\n",
    "def log_transform(x):\n",
    "    '''Takes in an array and perfoms a log transform on the data'''\n",
    "    log = np.log(x)\n",
    "    return log\n",
    "\n",
    "transformed = pd.DataFrame([])\n",
    "\n",
    "for column, name in zip(colz, num_cols):\n",
    "    transformed[name] = log_transform(column)\n",
    "\n",
    "transformed.hist(figsize = [8,8]);\n"
   ]
  },
  {
   "cell_type": "code",
   "execution_count": 104,
   "metadata": {
    "scrolled": true
   },
   "outputs": [
    {
     "data": {
      "image/png": "[encoded data removed]",
      "text/plain": [
       "<Figure size 576x576 with 4 Axes>"
      ]
     },
     "metadata": {
      "needs_background": "light"
     },
     "output_type": "display_data"
    }
   ],
   "source": [
    "# Further transform variables\n",
    "# restore log values\n",
    "## @Brandon For some reasom this is making it worse so currently just appending the log transform??\n",
    "\n",
    "\n",
    "#min-max function\n",
    "def min_max(x):\n",
    "    '''Takes in an array and perfoms a min-max transform on the data'''\n",
    "    min_max = (x - min(x))/(max(x)-min(x))\n",
    "    return min_max\n",
    "\n",
    "# standardization function\n",
    "def standardization(x):\n",
    "    '''Takes in an array and perfoms standardization on the data'''\n",
    "    s = (x-np.mean(x))/np.sqrt(np.var(x))\n",
    "    return s\n",
    "\n",
    "# create dataframe of transformed values\n",
    "final = pd.DataFrame([])\n",
    "final['condition'] = min_max(condition)\n",
    "final['floors'] = min_max(floors)\n",
    "final['yr_built'] = min_max(yr_built)\n",
    "    \n",
    "# plot histograms for normality\n",
    "final.hist(figsize = [8,8]);"
   ]
  },
  {
   "cell_type": "code",
   "execution_count": 105,
   "metadata": {},
   "outputs": [],
   "source": [
    "transformed = transformed.drop(labels =['condition', 'floors', 'yr_built'], axis = 1)"
   ]
  },
  {
   "cell_type": "code",
   "execution_count": 106,
   "metadata": {},
   "outputs": [],
   "source": [
    "df_cleaned = pd.concat([df1['price'],transformed, final, df_cat], axis =1)"
   ]
  },
  {
   "cell_type": "code",
   "execution_count": 107,
   "metadata": {
    "scrolled": false
   },
   "outputs": [],
   "source": [
    "## pd.plotting.scatter_matrix(df_cleaned, figsize = (18,18));"
   ]
  },
  {
   "cell_type": "code",
   "execution_count": 108,
   "metadata": {
    "scrolled": true
   },
   "outputs": [
    {
     "data": {
      "text/html": [
       "<div>\n",
       "<style scoped>\n",
       "    .dataframe tbody tr th:only-of-type {\n",
       "        vertical-align: middle;\n",
       "    }\n",
       "\n",
       "    .dataframe tbody tr th {\n",
       "        vertical-align: top;\n",
       "    }\n",
       "\n",
       "    .dataframe thead th {\n",
       "        text-align: right;\n",
       "    }\n",
       "</style>\n",
       "<table border=\"1\" class=\"dataframe\">\n",
       "  <thead>\n",
       "    <tr style=\"text-align: right;\">\n",
       "      <th></th>\n",
       "      <th>price</th>\n",
       "      <th>sqft_lot</th>\n",
       "      <th>grade</th>\n",
       "      <th>sqft_above</th>\n",
       "      <th>sqft_living15</th>\n",
       "      <th>sqft_lot15</th>\n",
       "      <th>bathrooms</th>\n",
       "      <th>zip_means</th>\n",
       "      <th>condition</th>\n",
       "      <th>floors</th>\n",
       "      <th>...</th>\n",
       "      <th>July</th>\n",
       "      <th>June</th>\n",
       "      <th>March</th>\n",
       "      <th>May</th>\n",
       "      <th>November</th>\n",
       "      <th>October</th>\n",
       "      <th>September</th>\n",
       "      <th>bedrooms_(0, 2]</th>\n",
       "      <th>bedrooms_(2, 3]</th>\n",
       "      <th>bedrooms_(3, 11]</th>\n",
       "    </tr>\n",
       "  </thead>\n",
       "  <tbody>\n",
       "    <tr>\n",
       "      <th>price</th>\n",
       "      <td>True</td>\n",
       "      <td>False</td>\n",
       "      <td>False</td>\n",
       "      <td>False</td>\n",
       "      <td>False</td>\n",
       "      <td>False</td>\n",
       "      <td>False</td>\n",
       "      <td>False</td>\n",
       "      <td>False</td>\n",
       "      <td>False</td>\n",
       "      <td>...</td>\n",
       "      <td>False</td>\n",
       "      <td>False</td>\n",
       "      <td>False</td>\n",
       "      <td>False</td>\n",
       "      <td>False</td>\n",
       "      <td>False</td>\n",
       "      <td>False</td>\n",
       "      <td>False</td>\n",
       "      <td>False</td>\n",
       "      <td>False</td>\n",
       "    </tr>\n",
       "    <tr>\n",
       "      <th>sqft_lot</th>\n",
       "      <td>False</td>\n",
       "      <td>True</td>\n",
       "      <td>False</td>\n",
       "      <td>False</td>\n",
       "      <td>False</td>\n",
       "      <td>True</td>\n",
       "      <td>False</td>\n",
       "      <td>False</td>\n",
       "      <td>False</td>\n",
       "      <td>False</td>\n",
       "      <td>...</td>\n",
       "      <td>False</td>\n",
       "      <td>False</td>\n",
       "      <td>False</td>\n",
       "      <td>False</td>\n",
       "      <td>False</td>\n",
       "      <td>False</td>\n",
       "      <td>False</td>\n",
       "      <td>False</td>\n",
       "      <td>False</td>\n",
       "      <td>False</td>\n",
       "    </tr>\n",
       "    <tr>\n",
       "      <th>grade</th>\n",
       "      <td>False</td>\n",
       "      <td>False</td>\n",
       "      <td>True</td>\n",
       "      <td>True</td>\n",
       "      <td>False</td>\n",
       "      <td>False</td>\n",
       "      <td>False</td>\n",
       "      <td>False</td>\n",
       "      <td>False</td>\n",
       "      <td>False</td>\n",
       "      <td>...</td>\n",
       "      <td>False</td>\n",
       "      <td>False</td>\n",
       "      <td>False</td>\n",
       "      <td>False</td>\n",
       "      <td>False</td>\n",
       "      <td>False</td>\n",
       "      <td>False</td>\n",
       "      <td>False</td>\n",
       "      <td>False</td>\n",
       "      <td>False</td>\n",
       "    </tr>\n",
       "    <tr>\n",
       "      <th>sqft_above</th>\n",
       "      <td>False</td>\n",
       "      <td>False</td>\n",
       "      <td>True</td>\n",
       "      <td>True</td>\n",
       "      <td>True</td>\n",
       "      <td>False</td>\n",
       "      <td>False</td>\n",
       "      <td>False</td>\n",
       "      <td>False</td>\n",
       "      <td>False</td>\n",
       "      <td>...</td>\n",
       "      <td>False</td>\n",
       "      <td>False</td>\n",
       "      <td>False</td>\n",
       "      <td>False</td>\n",
       "      <td>False</td>\n",
       "      <td>False</td>\n",
       "      <td>False</td>\n",
       "      <td>False</td>\n",
       "      <td>False</td>\n",
       "      <td>False</td>\n",
       "    </tr>\n",
       "    <tr>\n",
       "      <th>sqft_living15</th>\n",
       "      <td>False</td>\n",
       "      <td>False</td>\n",
       "      <td>False</td>\n",
       "      <td>True</td>\n",
       "      <td>True</td>\n",
       "      <td>False</td>\n",
       "      <td>False</td>\n",
       "      <td>False</td>\n",
       "      <td>False</td>\n",
       "      <td>False</td>\n",
       "      <td>...</td>\n",
       "      <td>False</td>\n",
       "      <td>False</td>\n",
       "      <td>False</td>\n",
       "      <td>False</td>\n",
       "      <td>False</td>\n",
       "      <td>False</td>\n",
       "      <td>False</td>\n",
       "      <td>False</td>\n",
       "      <td>False</td>\n",
       "      <td>False</td>\n",
       "    </tr>\n",
       "    <tr>\n",
       "      <th>sqft_lot15</th>\n",
       "      <td>False</td>\n",
       "      <td>True</td>\n",
       "      <td>False</td>\n",
       "      <td>False</td>\n",
       "      <td>False</td>\n",
       "      <td>True</td>\n",
       "      <td>False</td>\n",
       "      <td>False</td>\n",
       "      <td>False</td>\n",
       "      <td>False</td>\n",
       "      <td>...</td>\n",
       "      <td>False</td>\n",
       "      <td>False</td>\n",
       "      <td>False</td>\n",
       "      <td>False</td>\n",
       "      <td>False</td>\n",
       "      <td>False</td>\n",
       "      <td>False</td>\n",
       "      <td>False</td>\n",
       "      <td>False</td>\n",
       "      <td>False</td>\n",
       "    </tr>\n",
       "    <tr>\n",
       "      <th>bathrooms</th>\n",
       "      <td>False</td>\n",
       "      <td>False</td>\n",
       "      <td>False</td>\n",
       "      <td>False</td>\n",
       "      <td>False</td>\n",
       "      <td>False</td>\n",
       "      <td>True</td>\n",
       "      <td>False</td>\n",
       "      <td>False</td>\n",
       "      <td>False</td>\n",
       "      <td>...</td>\n",
       "      <td>False</td>\n",
       "      <td>False</td>\n",
       "      <td>False</td>\n",
       "      <td>False</td>\n",
       "      <td>False</td>\n",
       "      <td>False</td>\n",
       "      <td>False</td>\n",
       "      <td>False</td>\n",
       "      <td>False</td>\n",
       "      <td>False</td>\n",
       "    </tr>\n",
       "    <tr>\n",
       "      <th>zip_means</th>\n",
       "      <td>False</td>\n",
       "      <td>False</td>\n",
       "      <td>False</td>\n",
       "      <td>False</td>\n",
       "      <td>False</td>\n",
       "      <td>False</td>\n",
       "      <td>False</td>\n",
       "      <td>True</td>\n",
       "      <td>False</td>\n",
       "      <td>False</td>\n",
       "      <td>...</td>\n",
       "      <td>False</td>\n",
       "      <td>False</td>\n",
       "      <td>False</td>\n",
       "      <td>False</td>\n",
       "      <td>False</td>\n",
       "      <td>False</td>\n",
       "      <td>False</td>\n",
       "      <td>False</td>\n",
       "      <td>False</td>\n",
       "      <td>False</td>\n",
       "    </tr>\n",
       "    <tr>\n",
       "      <th>condition</th>\n",
       "      <td>False</td>\n",
       "      <td>False</td>\n",
       "      <td>False</td>\n",
       "      <td>False</td>\n",
       "      <td>False</td>\n",
       "      <td>False</td>\n",
       "      <td>False</td>\n",
       "      <td>False</td>\n",
       "      <td>True</td>\n",
       "      <td>False</td>\n",
       "      <td>...</td>\n",
       "      <td>False</td>\n",
       "      <td>False</td>\n",
       "      <td>False</td>\n",
       "      <td>False</td>\n",
       "      <td>False</td>\n",
       "      <td>False</td>\n",
       "      <td>False</td>\n",
       "      <td>False</td>\n",
       "      <td>False</td>\n",
       "      <td>False</td>\n",
       "    </tr>\n",
       "    <tr>\n",
       "      <th>floors</th>\n",
       "      <td>False</td>\n",
       "      <td>False</td>\n",
       "      <td>False</td>\n",
       "      <td>False</td>\n",
       "      <td>False</td>\n",
       "      <td>False</td>\n",
       "      <td>False</td>\n",
       "      <td>False</td>\n",
       "      <td>False</td>\n",
       "      <td>True</td>\n",
       "      <td>...</td>\n",
       "      <td>False</td>\n",
       "      <td>False</td>\n",
       "      <td>False</td>\n",
       "      <td>False</td>\n",
       "      <td>False</td>\n",
       "      <td>False</td>\n",
       "      <td>False</td>\n",
       "      <td>False</td>\n",
       "      <td>False</td>\n",
       "      <td>False</td>\n",
       "    </tr>\n",
       "    <tr>\n",
       "      <th>yr_built</th>\n",
       "      <td>False</td>\n",
       "      <td>False</td>\n",
       "      <td>False</td>\n",
       "      <td>False</td>\n",
       "      <td>False</td>\n",
       "      <td>False</td>\n",
       "      <td>False</td>\n",
       "      <td>False</td>\n",
       "      <td>False</td>\n",
       "      <td>False</td>\n",
       "      <td>...</td>\n",
       "      <td>False</td>\n",
       "      <td>False</td>\n",
       "      <td>False</td>\n",
       "      <td>False</td>\n",
       "      <td>False</td>\n",
       "      <td>False</td>\n",
       "      <td>False</td>\n",
       "      <td>False</td>\n",
       "      <td>False</td>\n",
       "      <td>False</td>\n",
       "    </tr>\n",
       "    <tr>\n",
       "      <th>waterfront</th>\n",
       "      <td>False</td>\n",
       "      <td>False</td>\n",
       "      <td>False</td>\n",
       "      <td>False</td>\n",
       "      <td>False</td>\n",
       "      <td>False</td>\n",
       "      <td>False</td>\n",
       "      <td>False</td>\n",
       "      <td>False</td>\n",
       "      <td>False</td>\n",
       "      <td>...</td>\n",
       "      <td>False</td>\n",
       "      <td>False</td>\n",
       "      <td>False</td>\n",
       "      <td>False</td>\n",
       "      <td>False</td>\n",
       "      <td>False</td>\n",
       "      <td>False</td>\n",
       "      <td>False</td>\n",
       "      <td>False</td>\n",
       "      <td>False</td>\n",
       "    </tr>\n",
       "    <tr>\n",
       "      <th>has_basement</th>\n",
       "      <td>False</td>\n",
       "      <td>False</td>\n",
       "      <td>False</td>\n",
       "      <td>False</td>\n",
       "      <td>False</td>\n",
       "      <td>False</td>\n",
       "      <td>False</td>\n",
       "      <td>False</td>\n",
       "      <td>False</td>\n",
       "      <td>False</td>\n",
       "      <td>...</td>\n",
       "      <td>False</td>\n",
       "      <td>False</td>\n",
       "      <td>False</td>\n",
       "      <td>False</td>\n",
       "      <td>False</td>\n",
       "      <td>False</td>\n",
       "      <td>False</td>\n",
       "      <td>False</td>\n",
       "      <td>False</td>\n",
       "      <td>False</td>\n",
       "    </tr>\n",
       "    <tr>\n",
       "      <th>is_renovated</th>\n",
       "      <td>False</td>\n",
       "      <td>False</td>\n",
       "      <td>False</td>\n",
       "      <td>False</td>\n",
       "      <td>False</td>\n",
       "      <td>False</td>\n",
       "      <td>False</td>\n",
       "      <td>False</td>\n",
       "      <td>False</td>\n",
       "      <td>False</td>\n",
       "      <td>...</td>\n",
       "      <td>False</td>\n",
       "      <td>False</td>\n",
       "      <td>False</td>\n",
       "      <td>False</td>\n",
       "      <td>False</td>\n",
       "      <td>False</td>\n",
       "      <td>False</td>\n",
       "      <td>False</td>\n",
       "      <td>False</td>\n",
       "      <td>False</td>\n",
       "    </tr>\n",
       "    <tr>\n",
       "      <th>is_viewed</th>\n",
       "      <td>False</td>\n",
       "      <td>False</td>\n",
       "      <td>False</td>\n",
       "      <td>False</td>\n",
       "      <td>False</td>\n",
       "      <td>False</td>\n",
       "      <td>False</td>\n",
       "      <td>False</td>\n",
       "      <td>False</td>\n",
       "      <td>False</td>\n",
       "      <td>...</td>\n",
       "      <td>False</td>\n",
       "      <td>False</td>\n",
       "      <td>False</td>\n",
       "      <td>False</td>\n",
       "      <td>False</td>\n",
       "      <td>False</td>\n",
       "      <td>False</td>\n",
       "      <td>False</td>\n",
       "      <td>False</td>\n",
       "      <td>False</td>\n",
       "    </tr>\n",
       "    <tr>\n",
       "      <th>April</th>\n",
       "      <td>False</td>\n",
       "      <td>False</td>\n",
       "      <td>False</td>\n",
       "      <td>False</td>\n",
       "      <td>False</td>\n",
       "      <td>False</td>\n",
       "      <td>False</td>\n",
       "      <td>False</td>\n",
       "      <td>False</td>\n",
       "      <td>False</td>\n",
       "      <td>...</td>\n",
       "      <td>False</td>\n",
       "      <td>False</td>\n",
       "      <td>False</td>\n",
       "      <td>False</td>\n",
       "      <td>False</td>\n",
       "      <td>False</td>\n",
       "      <td>False</td>\n",
       "      <td>False</td>\n",
       "      <td>False</td>\n",
       "      <td>False</td>\n",
       "    </tr>\n",
       "    <tr>\n",
       "      <th>August</th>\n",
       "      <td>False</td>\n",
       "      <td>False</td>\n",
       "      <td>False</td>\n",
       "      <td>False</td>\n",
       "      <td>False</td>\n",
       "      <td>False</td>\n",
       "      <td>False</td>\n",
       "      <td>False</td>\n",
       "      <td>False</td>\n",
       "      <td>False</td>\n",
       "      <td>...</td>\n",
       "      <td>False</td>\n",
       "      <td>False</td>\n",
       "      <td>False</td>\n",
       "      <td>False</td>\n",
       "      <td>False</td>\n",
       "      <td>False</td>\n",
       "      <td>False</td>\n",
       "      <td>False</td>\n",
       "      <td>False</td>\n",
       "      <td>False</td>\n",
       "    </tr>\n",
       "    <tr>\n",
       "      <th>December</th>\n",
       "      <td>False</td>\n",
       "      <td>False</td>\n",
       "      <td>False</td>\n",
       "      <td>False</td>\n",
       "      <td>False</td>\n",
       "      <td>False</td>\n",
       "      <td>False</td>\n",
       "      <td>False</td>\n",
       "      <td>False</td>\n",
       "      <td>False</td>\n",
       "      <td>...</td>\n",
       "      <td>False</td>\n",
       "      <td>False</td>\n",
       "      <td>False</td>\n",
       "      <td>False</td>\n",
       "      <td>False</td>\n",
       "      <td>False</td>\n",
       "      <td>False</td>\n",
       "      <td>False</td>\n",
       "      <td>False</td>\n",
       "      <td>False</td>\n",
       "    </tr>\n",
       "    <tr>\n",
       "      <th>February</th>\n",
       "      <td>False</td>\n",
       "      <td>False</td>\n",
       "      <td>False</td>\n",
       "      <td>False</td>\n",
       "      <td>False</td>\n",
       "      <td>False</td>\n",
       "      <td>False</td>\n",
       "      <td>False</td>\n",
       "      <td>False</td>\n",
       "      <td>False</td>\n",
       "      <td>...</td>\n",
       "      <td>False</td>\n",
       "      <td>False</td>\n",
       "      <td>False</td>\n",
       "      <td>False</td>\n",
       "      <td>False</td>\n",
       "      <td>False</td>\n",
       "      <td>False</td>\n",
       "      <td>False</td>\n",
       "      <td>False</td>\n",
       "      <td>False</td>\n",
       "    </tr>\n",
       "    <tr>\n",
       "      <th>January</th>\n",
       "      <td>False</td>\n",
       "      <td>False</td>\n",
       "      <td>False</td>\n",
       "      <td>False</td>\n",
       "      <td>False</td>\n",
       "      <td>False</td>\n",
       "      <td>False</td>\n",
       "      <td>False</td>\n",
       "      <td>False</td>\n",
       "      <td>False</td>\n",
       "      <td>...</td>\n",
       "      <td>False</td>\n",
       "      <td>False</td>\n",
       "      <td>False</td>\n",
       "      <td>False</td>\n",
       "      <td>False</td>\n",
       "      <td>False</td>\n",
       "      <td>False</td>\n",
       "      <td>False</td>\n",
       "      <td>False</td>\n",
       "      <td>False</td>\n",
       "    </tr>\n",
       "    <tr>\n",
       "      <th>July</th>\n",
       "      <td>False</td>\n",
       "      <td>False</td>\n",
       "      <td>False</td>\n",
       "      <td>False</td>\n",
       "      <td>False</td>\n",
       "      <td>False</td>\n",
       "      <td>False</td>\n",
       "      <td>False</td>\n",
       "      <td>False</td>\n",
       "      <td>False</td>\n",
       "      <td>...</td>\n",
       "      <td>True</td>\n",
       "      <td>False</td>\n",
       "      <td>False</td>\n",
       "      <td>False</td>\n",
       "      <td>False</td>\n",
       "      <td>False</td>\n",
       "      <td>False</td>\n",
       "      <td>False</td>\n",
       "      <td>False</td>\n",
       "      <td>False</td>\n",
       "    </tr>\n",
       "    <tr>\n",
       "      <th>June</th>\n",
       "      <td>False</td>\n",
       "      <td>False</td>\n",
       "      <td>False</td>\n",
       "      <td>False</td>\n",
       "      <td>False</td>\n",
       "      <td>False</td>\n",
       "      <td>False</td>\n",
       "      <td>False</td>\n",
       "      <td>False</td>\n",
       "      <td>False</td>\n",
       "      <td>...</td>\n",
       "      <td>False</td>\n",
       "      <td>True</td>\n",
       "      <td>False</td>\n",
       "      <td>False</td>\n",
       "      <td>False</td>\n",
       "      <td>False</td>\n",
       "      <td>False</td>\n",
       "      <td>False</td>\n",
       "      <td>False</td>\n",
       "      <td>False</td>\n",
       "    </tr>\n",
       "    <tr>\n",
       "      <th>March</th>\n",
       "      <td>False</td>\n",
       "      <td>False</td>\n",
       "      <td>False</td>\n",
       "      <td>False</td>\n",
       "      <td>False</td>\n",
       "      <td>False</td>\n",
       "      <td>False</td>\n",
       "      <td>False</td>\n",
       "      <td>False</td>\n",
       "      <td>False</td>\n",
       "      <td>...</td>\n",
       "      <td>False</td>\n",
       "      <td>False</td>\n",
       "      <td>True</td>\n",
       "      <td>False</td>\n",
       "      <td>False</td>\n",
       "      <td>False</td>\n",
       "      <td>False</td>\n",
       "      <td>False</td>\n",
       "      <td>False</td>\n",
       "      <td>False</td>\n",
       "    </tr>\n",
       "    <tr>\n",
       "      <th>May</th>\n",
       "      <td>False</td>\n",
       "      <td>False</td>\n",
       "      <td>False</td>\n",
       "      <td>False</td>\n",
       "      <td>False</td>\n",
       "      <td>False</td>\n",
       "      <td>False</td>\n",
       "      <td>False</td>\n",
       "      <td>False</td>\n",
       "      <td>False</td>\n",
       "      <td>...</td>\n",
       "      <td>False</td>\n",
       "      <td>False</td>\n",
       "      <td>False</td>\n",
       "      <td>True</td>\n",
       "      <td>False</td>\n",
       "      <td>False</td>\n",
       "      <td>False</td>\n",
       "      <td>False</td>\n",
       "      <td>False</td>\n",
       "      <td>False</td>\n",
       "    </tr>\n",
       "    <tr>\n",
       "      <th>November</th>\n",
       "      <td>False</td>\n",
       "      <td>False</td>\n",
       "      <td>False</td>\n",
       "      <td>False</td>\n",
       "      <td>False</td>\n",
       "      <td>False</td>\n",
       "      <td>False</td>\n",
       "      <td>False</td>\n",
       "      <td>False</td>\n",
       "      <td>False</td>\n",
       "      <td>...</td>\n",
       "      <td>False</td>\n",
       "      <td>False</td>\n",
       "      <td>False</td>\n",
       "      <td>False</td>\n",
       "      <td>True</td>\n",
       "      <td>False</td>\n",
       "      <td>False</td>\n",
       "      <td>False</td>\n",
       "      <td>False</td>\n",
       "      <td>False</td>\n",
       "    </tr>\n",
       "    <tr>\n",
       "      <th>October</th>\n",
       "      <td>False</td>\n",
       "      <td>False</td>\n",
       "      <td>False</td>\n",
       "      <td>False</td>\n",
       "      <td>False</td>\n",
       "      <td>False</td>\n",
       "      <td>False</td>\n",
       "      <td>False</td>\n",
       "      <td>False</td>\n",
       "      <td>False</td>\n",
       "      <td>...</td>\n",
       "      <td>False</td>\n",
       "      <td>False</td>\n",
       "      <td>False</td>\n",
       "      <td>False</td>\n",
       "      <td>False</td>\n",
       "      <td>True</td>\n",
       "      <td>False</td>\n",
       "      <td>False</td>\n",
       "      <td>False</td>\n",
       "      <td>False</td>\n",
       "    </tr>\n",
       "    <tr>\n",
       "      <th>September</th>\n",
       "      <td>False</td>\n",
       "      <td>False</td>\n",
       "      <td>False</td>\n",
       "      <td>False</td>\n",
       "      <td>False</td>\n",
       "      <td>False</td>\n",
       "      <td>False</td>\n",
       "      <td>False</td>\n",
       "      <td>False</td>\n",
       "      <td>False</td>\n",
       "      <td>...</td>\n",
       "      <td>False</td>\n",
       "      <td>False</td>\n",
       "      <td>False</td>\n",
       "      <td>False</td>\n",
       "      <td>False</td>\n",
       "      <td>False</td>\n",
       "      <td>True</td>\n",
       "      <td>False</td>\n",
       "      <td>False</td>\n",
       "      <td>False</td>\n",
       "    </tr>\n",
       "    <tr>\n",
       "      <th>bedrooms_(0, 2]</th>\n",
       "      <td>False</td>\n",
       "      <td>False</td>\n",
       "      <td>False</td>\n",
       "      <td>False</td>\n",
       "      <td>False</td>\n",
       "      <td>False</td>\n",
       "      <td>False</td>\n",
       "      <td>False</td>\n",
       "      <td>False</td>\n",
       "      <td>False</td>\n",
       "      <td>...</td>\n",
       "      <td>False</td>\n",
       "      <td>False</td>\n",
       "      <td>False</td>\n",
       "      <td>False</td>\n",
       "      <td>False</td>\n",
       "      <td>False</td>\n",
       "      <td>False</td>\n",
       "      <td>True</td>\n",
       "      <td>False</td>\n",
       "      <td>False</td>\n",
       "    </tr>\n",
       "    <tr>\n",
       "      <th>bedrooms_(2, 3]</th>\n",
       "      <td>False</td>\n",
       "      <td>False</td>\n",
       "      <td>False</td>\n",
       "      <td>False</td>\n",
       "      <td>False</td>\n",
       "      <td>False</td>\n",
       "      <td>False</td>\n",
       "      <td>False</td>\n",
       "      <td>False</td>\n",
       "      <td>False</td>\n",
       "      <td>...</td>\n",
       "      <td>False</td>\n",
       "      <td>False</td>\n",
       "      <td>False</td>\n",
       "      <td>False</td>\n",
       "      <td>False</td>\n",
       "      <td>False</td>\n",
       "      <td>False</td>\n",
       "      <td>False</td>\n",
       "      <td>True</td>\n",
       "      <td>False</td>\n",
       "    </tr>\n",
       "    <tr>\n",
       "      <th>bedrooms_(3, 11]</th>\n",
       "      <td>False</td>\n",
       "      <td>False</td>\n",
       "      <td>False</td>\n",
       "      <td>False</td>\n",
       "      <td>False</td>\n",
       "      <td>False</td>\n",
       "      <td>False</td>\n",
       "      <td>False</td>\n",
       "      <td>False</td>\n",
       "      <td>False</td>\n",
       "      <td>...</td>\n",
       "      <td>False</td>\n",
       "      <td>False</td>\n",
       "      <td>False</td>\n",
       "      <td>False</td>\n",
       "      <td>False</td>\n",
       "      <td>False</td>\n",
       "      <td>False</td>\n",
       "      <td>False</td>\n",
       "      <td>False</td>\n",
       "      <td>True</td>\n",
       "    </tr>\n",
       "  </tbody>\n",
       "</table>\n",
       "<p>30 rows × 30 columns</p>\n",
       "</div>"
      ],
      "text/plain": [
       "                  price  sqft_lot  grade  sqft_above  sqft_living15  \\\n",
       "price              True     False  False       False          False   \n",
       "sqft_lot          False      True  False       False          False   \n",
       "grade             False     False   True        True          False   \n",
       "sqft_above        False     False   True        True           True   \n",
       "sqft_living15     False     False  False        True           True   \n",
       "sqft_lot15        False      True  False       False          False   \n",
       "bathrooms         False     False  False       False          False   \n",
       "zip_means         False     False  False       False          False   \n",
       "condition         False     False  False       False          False   \n",
       "floors            False     False  False       False          False   \n",
       "yr_built          False     False  False       False          False   \n",
       "waterfront        False     False  False       False          False   \n",
       "has_basement      False     False  False       False          False   \n",
       "is_renovated      False     False  False       False          False   \n",
       "is_viewed         False     False  False       False          False   \n",
       "April             False     False  False       False          False   \n",
       "August            False     False  False       False          False   \n",
       "December          False     False  False       False          False   \n",
       "February          False     False  False       False          False   \n",
       "January           False     False  False       False          False   \n",
       "July              False     False  False       False          False   \n",
       "June              False     False  False       False          False   \n",
       "March             False     False  False       False          False   \n",
       "May               False     False  False       False          False   \n",
       "November          False     False  False       False          False   \n",
       "October           False     False  False       False          False   \n",
       "September         False     False  False       False          False   \n",
       "bedrooms_(0, 2]   False     False  False       False          False   \n",
       "bedrooms_(2, 3]   False     False  False       False          False   \n",
       "bedrooms_(3, 11]  False     False  False       False          False   \n",
       "\n",
       "                  sqft_lot15  bathrooms  zip_means  condition  floors  \\\n",
       "price                  False      False      False      False   False   \n",
       "sqft_lot                True      False      False      False   False   \n",
       "grade                  False      False      False      False   False   \n",
       "sqft_above             False      False      False      False   False   \n",
       "sqft_living15          False      False      False      False   False   \n",
       "sqft_lot15              True      False      False      False   False   \n",
       "bathrooms              False       True      False      False   False   \n",
       "zip_means              False      False       True      False   False   \n",
       "condition              False      False      False       True   False   \n",
       "floors                 False      False      False      False    True   \n",
       "yr_built               False      False      False      False   False   \n",
       "waterfront             False      False      False      False   False   \n",
       "has_basement           False      False      False      False   False   \n",
       "is_renovated           False      False      False      False   False   \n",
       "is_viewed              False      False      False      False   False   \n",
       "April                  False      False      False      False   False   \n",
       "August                 False      False      False      False   False   \n",
       "December               False      False      False      False   False   \n",
       "February               False      False      False      False   False   \n",
       "January                False      False      False      False   False   \n",
       "July                   False      False      False      False   False   \n",
       "June                   False      False      False      False   False   \n",
       "March                  False      False      False      False   False   \n",
       "May                    False      False      False      False   False   \n",
       "November               False      False      False      False   False   \n",
       "October                False      False      False      False   False   \n",
       "September              False      False      False      False   False   \n",
       "bedrooms_(0, 2]        False      False      False      False   False   \n",
       "bedrooms_(2, 3]        False      False      False      False   False   \n",
       "bedrooms_(3, 11]       False      False      False      False   False   \n",
       "\n",
       "                        ...          July   June  March    May  November  \\\n",
       "price                   ...         False  False  False  False     False   \n",
       "sqft_lot                ...         False  False  False  False     False   \n",
       "grade                   ...         False  False  False  False     False   \n",
       "sqft_above              ...         False  False  False  False     False   \n",
       "sqft_living15           ...         False  False  False  False     False   \n",
       "sqft_lot15              ...         False  False  False  False     False   \n",
       "bathrooms               ...         False  False  False  False     False   \n",
       "zip_means               ...         False  False  False  False     False   \n",
       "condition               ...         False  False  False  False     False   \n",
       "floors                  ...         False  False  False  False     False   \n",
       "yr_built                ...         False  False  False  False     False   \n",
       "waterfront              ...         False  False  False  False     False   \n",
       "has_basement            ...         False  False  False  False     False   \n",
       "is_renovated            ...         False  False  False  False     False   \n",
       "is_viewed               ...         False  False  False  False     False   \n",
       "April                   ...         False  False  False  False     False   \n",
       "August                  ...         False  False  False  False     False   \n",
       "December                ...         False  False  False  False     False   \n",
       "February                ...         False  False  False  False     False   \n",
       "January                 ...         False  False  False  False     False   \n",
       "July                    ...          True  False  False  False     False   \n",
       "June                    ...         False   True  False  False     False   \n",
       "March                   ...         False  False   True  False     False   \n",
       "May                     ...         False  False  False   True     False   \n",
       "November                ...         False  False  False  False      True   \n",
       "October                 ...         False  False  False  False     False   \n",
       "September               ...         False  False  False  False     False   \n",
       "bedrooms_(0, 2]         ...         False  False  False  False     False   \n",
       "bedrooms_(2, 3]         ...         False  False  False  False     False   \n",
       "bedrooms_(3, 11]        ...         False  False  False  False     False   \n",
       "\n",
       "                  October  September  bedrooms_(0, 2]  bedrooms_(2, 3]  \\\n",
       "price               False      False            False            False   \n",
       "sqft_lot            False      False            False            False   \n",
       "grade               False      False            False            False   \n",
       "sqft_above          False      False            False            False   \n",
       "sqft_living15       False      False            False            False   \n",
       "sqft_lot15          False      False            False            False   \n",
       "bathrooms           False      False            False            False   \n",
       "zip_means           False      False            False            False   \n",
       "condition           False      False            False            False   \n",
       "floors              False      False            False            False   \n",
       "yr_built            False      False            False            False   \n",
       "waterfront          False      False            False            False   \n",
       "has_basement        False      False            False            False   \n",
       "is_renovated        False      False            False            False   \n",
       "is_viewed           False      False            False            False   \n",
       "April               False      False            False            False   \n",
       "August              False      False            False            False   \n",
       "December            False      False            False            False   \n",
       "February            False      False            False            False   \n",
       "January             False      False            False            False   \n",
       "July                False      False            False            False   \n",
       "June                False      False            False            False   \n",
       "March               False      False            False            False   \n",
       "May                 False      False            False            False   \n",
       "November            False      False            False            False   \n",
       "October              True      False            False            False   \n",
       "September           False       True            False            False   \n",
       "bedrooms_(0, 2]     False      False             True            False   \n",
       "bedrooms_(2, 3]     False      False            False             True   \n",
       "bedrooms_(3, 11]    False      False            False            False   \n",
       "\n",
       "                  bedrooms_(3, 11]  \n",
       "price                        False  \n",
       "sqft_lot                     False  \n",
       "grade                        False  \n",
       "sqft_above                   False  \n",
       "sqft_living15                False  \n",
       "sqft_lot15                   False  \n",
       "bathrooms                    False  \n",
       "zip_means                    False  \n",
       "condition                    False  \n",
       "floors                       False  \n",
       "yr_built                     False  \n",
       "waterfront                   False  \n",
       "has_basement                 False  \n",
       "is_renovated                 False  \n",
       "is_viewed                    False  \n",
       "April                        False  \n",
       "August                       False  \n",
       "December                     False  \n",
       "February                     False  \n",
       "January                      False  \n",
       "July                         False  \n",
       "June                         False  \n",
       "March                        False  \n",
       "May                          False  \n",
       "November                     False  \n",
       "October                      False  \n",
       "September                    False  \n",
       "bedrooms_(0, 2]              False  \n",
       "bedrooms_(2, 3]              False  \n",
       "bedrooms_(3, 11]              True  \n",
       "\n",
       "[30 rows x 30 columns]"
      ]
     },
     "execution_count": 108,
     "metadata": {},
     "output_type": "execute_result"
    }
   ],
   "source": [
    "# Look at a correlation matrix to see where there are variables that are highly collinear. \n",
    "abs(df_cleaned.corr() > .70)"
   ]
  },
  {
   "cell_type": "code",
   "execution_count": 109,
   "metadata": {
    "scrolled": true
   },
   "outputs": [
    {
     "data": {
      "text/plain": [
       "price               1\n",
       "sqft_lot            2\n",
       "grade               2\n",
       "sqft_above          3\n",
       "sqft_living15       2\n",
       "sqft_lot15          2\n",
       "bathrooms           1\n",
       "zip_means           1\n",
       "condition           1\n",
       "floors              1\n",
       "yr_built            1\n",
       "waterfront          1\n",
       "has_basement        1\n",
       "is_renovated        1\n",
       "is_viewed           1\n",
       "April               1\n",
       "August              1\n",
       "December            1\n",
       "February            1\n",
       "January             1\n",
       "July                1\n",
       "June                1\n",
       "March               1\n",
       "May                 1\n",
       "November            1\n",
       "October             1\n",
       "September           1\n",
       "bedrooms_(0, 2]     1\n",
       "bedrooms_(2, 3]     1\n",
       "bedrooms_(3, 11]    1\n",
       "dtype: int64"
      ]
     },
     "execution_count": 109,
     "metadata": {},
     "output_type": "execute_result"
    }
   ],
   "source": [
    "abs(df_cleaned.corr() > .70).sum()"
   ]
  },
  {
   "cell_type": "code",
   "execution_count": 110,
   "metadata": {},
   "outputs": [],
   "source": [
    "# drop sqft_living, sqft_living15, sqft_lot15\n",
    "df_cleaned = df_cleaned.drop([ 'sqft_above'], axis = 1)"
   ]
  },
  {
   "cell_type": "code",
   "execution_count": 111,
   "metadata": {
    "scrolled": true
   },
   "outputs": [
    {
     "name": "stdout",
     "output_type": "stream",
     "text": [
      "<class 'pandas.core.frame.DataFrame'>\n",
      "Int64Index: 20735 entries, 7129300520 to 1523300157\n",
      "Data columns (total 29 columns):\n",
      "price               20735 non-null float64\n",
      "sqft_lot            20735 non-null float64\n",
      "grade               20735 non-null float64\n",
      "sqft_living15       20735 non-null float64\n",
      "sqft_lot15          20735 non-null float64\n",
      "bathrooms           20735 non-null float64\n",
      "zip_means           20735 non-null float64\n",
      "condition           20735 non-null float64\n",
      "floors              20735 non-null float64\n",
      "yr_built            20735 non-null float64\n",
      "waterfront          20735 non-null int64\n",
      "has_basement        20735 non-null int64\n",
      "is_renovated        20735 non-null int64\n",
      "is_viewed           20735 non-null int64\n",
      "April               20735 non-null uint8\n",
      "August              20735 non-null uint8\n",
      "December            20735 non-null uint8\n",
      "February            20735 non-null uint8\n",
      "January             20735 non-null uint8\n",
      "July                20735 non-null uint8\n",
      "June                20735 non-null uint8\n",
      "March               20735 non-null uint8\n",
      "May                 20735 non-null uint8\n",
      "November            20735 non-null uint8\n",
      "October             20735 non-null uint8\n",
      "September           20735 non-null uint8\n",
      "bedrooms_(0, 2]     20735 non-null uint8\n",
      "bedrooms_(2, 3]     20735 non-null uint8\n",
      "bedrooms_(3, 11]    20735 non-null uint8\n",
      "dtypes: float64(10), int64(4), uint8(15)\n",
      "memory usage: 2.7 MB\n"
     ]
    }
   ],
   "source": [
    "df_cleaned.info()"
   ]
  },
  {
   "cell_type": "code",
   "execution_count": 112,
   "metadata": {},
   "outputs": [],
   "source": [
    "df_nums = df_cleaned.select_dtypes(include=['float64'])"
   ]
  },
  {
   "cell_type": "code",
   "execution_count": 113,
   "metadata": {
    "scrolled": true
   },
   "outputs": [
    {
     "data": {
      "text/plain": [
       "price            1.000000\n",
       "grade            0.634634\n",
       "zip_means        0.611364\n",
       "sqft_living15    0.543080\n",
       "bathrooms        0.454680\n",
       "floors           0.254192\n",
       "sqft_lot         0.161473\n",
       "sqft_lot15       0.148389\n",
       "yr_built         0.050814\n",
       "condition        0.031658\n",
       "Name: price, dtype: float64"
      ]
     },
     "execution_count": 113,
     "metadata": {},
     "output_type": "execute_result"
    }
   ],
   "source": [
    "df_nums.corr().price.sort_values(ascending = False)"
   ]
  },
  {
   "cell_type": "code",
   "execution_count": 114,
   "metadata": {},
   "outputs": [],
   "source": [
    "# since long, condition, sqft_lot least correlation, let's remove\n",
    "df_cleaned = df_cleaned.drop([ 'condition', 'sqft_lot15','sqft_lot'], axis = 1)"
   ]
  },
  {
   "cell_type": "code",
   "execution_count": 115,
   "metadata": {
    "scrolled": false
   },
   "outputs": [],
   "source": [
    "# Plot a heatmap for quick visualization. \n",
    "# import seaborn as sns\n",
    "# sns.heatmap(df_continuous.corr(), center=0);"
   ]
  },
  {
   "cell_type": "markdown",
   "metadata": {},
   "source": [
    "# Let's Try a Model"
   ]
  },
  {
   "cell_type": "code",
   "execution_count": 116,
   "metadata": {},
   "outputs": [],
   "source": [
    "import statsmodels.formula.api as smf\n",
    "import statsmodels.api as sm"
   ]
  },
  {
   "cell_type": "code",
   "execution_count": 117,
   "metadata": {},
   "outputs": [],
   "source": [
    "df_model = df_cleaned.copy()"
   ]
  },
  {
   "cell_type": "code",
   "execution_count": 118,
   "metadata": {},
   "outputs": [
    {
     "name": "stdout",
     "output_type": "stream",
     "text": [
      "Price ~ grade + sqft_living15 + bathrooms + zip_means + floors + yr_built + waterfront + has_basement + is_renovated + is_viewed + April + August + December + February + January + July + June + March + May + November + October + September + bedrooms_(0, 2] + bedrooms_(2, 3] + bedrooms_(3, 11]- 1\n",
      "25\n"
     ]
    }
   ],
   "source": [
    "predictors = df_model.drop(labels = 'price', axis = 1).copy()\n",
    "target = df_model.price.copy()\n",
    "predictor_list = list(predictors.columns)\n",
    "formula = 'Price ~ ' + ' + '.join(list(predictors.columns)) + '- 1'\n",
    "print(formula)\n",
    "print(len(predictors.columns))\n"
   ]
  },
  {
   "cell_type": "code",
   "execution_count": 119,
   "metadata": {},
   "outputs": [],
   "source": [
    "from sklearn.model_selection import train_test_split\n",
    "\n",
    "predictor_train, predictor_test, target_train, target_test = train_test_split(\n",
    "    predictors, target, test_size=0.20, random_state=42) "
   ]
  },
  {
   "cell_type": "code",
   "execution_count": 120,
   "metadata": {},
   "outputs": [
    {
     "ename": "SyntaxError",
     "evalue": "invalid syntax (<unknown>, line 1)",
     "output_type": "error",
     "traceback": [
      "Traceback \u001b[0;36m(most recent call last)\u001b[0m:\n",
      "  File \u001b[1;32m\"/anaconda3/lib/python3.7/site-packages/IPython/core/interactiveshell.py\"\u001b[0m, line \u001b[1;32m3267\u001b[0m, in \u001b[1;35mrun_code\u001b[0m\n    exec(code_obj, self.user_global_ns, self.user_ns)\n",
      "  File \u001b[1;32m\"<ipython-input-120-26f7a485cd41>\"\u001b[0m, line \u001b[1;32m1\u001b[0m, in \u001b[1;35m<module>\u001b[0m\n    mod = smf.ols(formula=formula, data = predictor_train.join(target_train))\n",
      "  File \u001b[1;32m\"/anaconda3/lib/python3.7/site-packages/statsmodels/base/model.py\"\u001b[0m, line \u001b[1;32m155\u001b[0m, in \u001b[1;35mfrom_formula\u001b[0m\n    missing=missing)\n",
      "  File \u001b[1;32m\"/anaconda3/lib/python3.7/site-packages/statsmodels/formula/formulatools.py\"\u001b[0m, line \u001b[1;32m65\u001b[0m, in \u001b[1;35mhandle_formula_data\u001b[0m\n    NA_action=na_action)\n",
      "  File \u001b[1;32m\"/anaconda3/lib/python3.7/site-packages/patsy/highlevel.py\"\u001b[0m, line \u001b[1;32m310\u001b[0m, in \u001b[1;35mdmatrices\u001b[0m\n    NA_action, return_type)\n",
      "  File \u001b[1;32m\"/anaconda3/lib/python3.7/site-packages/patsy/highlevel.py\"\u001b[0m, line \u001b[1;32m165\u001b[0m, in \u001b[1;35m_do_highlevel_design\u001b[0m\n    NA_action)\n",
      "  File \u001b[1;32m\"/anaconda3/lib/python3.7/site-packages/patsy/highlevel.py\"\u001b[0m, line \u001b[1;32m70\u001b[0m, in \u001b[1;35m_try_incr_builders\u001b[0m\n    NA_action)\n",
      "  File \u001b[1;32m\"/anaconda3/lib/python3.7/site-packages/patsy/build.py\"\u001b[0m, line \u001b[1;32m689\u001b[0m, in \u001b[1;35mdesign_matrix_builders\u001b[0m\n    factor_states = _factors_memorize(all_factors, data_iter_maker, eval_env)\n",
      "  File \u001b[1;32m\"/anaconda3/lib/python3.7/site-packages/patsy/build.py\"\u001b[0m, line \u001b[1;32m354\u001b[0m, in \u001b[1;35m_factors_memorize\u001b[0m\n    which_pass = factor.memorize_passes_needed(state, eval_env)\n",
      "  File \u001b[1;32m\"/anaconda3/lib/python3.7/site-packages/patsy/eval.py\"\u001b[0m, line \u001b[1;32m474\u001b[0m, in \u001b[1;35mmemorize_passes_needed\u001b[0m\n    subset_names = [name for name in ast_names(self.code)\n",
      "  File \u001b[1;32m\"/anaconda3/lib/python3.7/site-packages/patsy/eval.py\"\u001b[0m, line \u001b[1;32m474\u001b[0m, in \u001b[1;35m<listcomp>\u001b[0m\n    subset_names = [name for name in ast_names(self.code)\n",
      "  File \u001b[1;32m\"/anaconda3/lib/python3.7/site-packages/patsy/eval.py\"\u001b[0m, line \u001b[1;32m105\u001b[0m, in \u001b[1;35mast_names\u001b[0m\n    for node in ast.walk(ast.parse(code)):\n",
      "\u001b[0;36m  File \u001b[0;32m\"/anaconda3/lib/python3.7/ast.py\"\u001b[0;36m, line \u001b[0;32m35\u001b[0;36m, in \u001b[0;35mparse\u001b[0;36m\u001b[0m\n\u001b[0;31m    return compile(source, filename, mode, PyCF_ONLY_AST)\u001b[0m\n",
      "\u001b[0;36m  File \u001b[0;32m\"<unknown>\"\u001b[0;36m, line \u001b[0;32m1\u001b[0m\n\u001b[0;31m    bedrooms_(2, 3]\u001b[0m\n\u001b[0m                  ^\u001b[0m\n\u001b[0;31mSyntaxError\u001b[0m\u001b[0;31m:\u001b[0m invalid syntax\n"
     ]
    }
   ],
   "source": [
    "## This is throwing an errir saying bedrooms_(3,11] is incorrect syntax??\n",
    "\n",
    "mod = smf.ols(formula=formula, data = predictor_train.join(target_train))\n",
    "res = mod.fit()\n",
    "res.summary()"
   ]
  },
  {
   "cell_type": "code",
   "execution_count": 121,
   "metadata": {},
   "outputs": [
    {
     "data": {
      "text/plain": [
       "Index(['price', 'grade', 'sqft_living15', 'bathrooms', 'zip_means', 'floors',\n",
       "       'yr_built', 'waterfront', 'has_basement', 'is_renovated', 'is_viewed',\n",
       "       'April', 'August', 'December', 'February', 'January', 'July', 'June',\n",
       "       'March', 'May', 'November', 'October', 'September', 'bedrooms_(0, 2]',\n",
       "       'bedrooms_(2, 3]', 'bedrooms_(3, 11]'],\n",
       "      dtype='object')"
      ]
     },
     "execution_count": 121,
     "metadata": {},
     "output_type": "execute_result"
    }
   ],
   "source": [
    "df_model.head()\n",
    "df_model.columns"
   ]
  },
  {
   "cell_type": "code",
   "execution_count": 122,
   "metadata": {},
   "outputs": [],
   "source": [
    "import statsmodels.api as sm\n",
    "from statsmodels.formula.api import ols"
   ]
  },
  {
   "cell_type": "code",
   "execution_count": 123,
   "metadata": {
    "scrolled": true
   },
   "outputs": [],
   "source": [
    "# Don't include price\n",
    "predictors = pd.DataFrame(df_model.drop(['price'], axis = 1))\n",
    "\n",
    "X = predictors\n",
    "y = df_model['price']\n"
   ]
  },
  {
   "cell_type": "code",
   "execution_count": 124,
   "metadata": {},
   "outputs": [
    {
     "data": {
      "text/plain": [
       "Index(['grade', 'sqft_living15', 'bathrooms', 'zip_means', 'floors',\n",
       "       'yr_built', 'waterfront', 'has_basement', 'is_renovated', 'is_viewed',\n",
       "       'April', 'August', 'December', 'February', 'January', 'July', 'June',\n",
       "       'March', 'May', 'November', 'October', 'September', 'bedrooms_(0, 2]',\n",
       "       'bedrooms_(2, 3]', 'bedrooms_(3, 11]'],\n",
       "      dtype='object')"
      ]
     },
     "execution_count": 124,
     "metadata": {},
     "output_type": "execute_result"
    }
   ],
   "source": [
    "X.columns"
   ]
  },
  {
   "cell_type": "code",
   "execution_count": 126,
   "metadata": {},
   "outputs": [],
   "source": [
    "# do Model\n",
    "# do train test split\n",
    "# do cross validation"
   ]
  },
  {
   "cell_type": "code",
   "execution_count": 127,
   "metadata": {},
   "outputs": [],
   "source": [
    "# step-wise selection code\n",
    "def stepwise_selection(X, y, \n",
    "                       initial_list=[], \n",
    "                       threshold_in=0.01, \n",
    "                       threshold_out = 0.05, \n",
    "                       verbose=True):\n",
    "    \"\"\" Perform a forward-backward feature selection \n",
    "    based on p-value from statsmodels.api.OLS\n",
    "    Arguments:\n",
    "        X - pandas.DataFrame with candidate features\n",
    "        y - list-like with the target\n",
    "        initial_list - list of features to start with (column names of X)\n",
    "        threshold_in - include a feature if its p-value < threshold_in\n",
    "        threshold_out - exclude a feature if its p-value > threshold_out\n",
    "        verbose - whether to print the sequence of inclusions and exclusions\n",
    "    Returns: list of selected features \n",
    "    Always set threshold_in < threshold_out to avoid infinite looping.\n",
    "    See https://en.wikipedia.org/wiki/Stepwise_regression for the details\n",
    "    \"\"\"\n",
    "    included = list(initial_list)\n",
    "    while True:\n",
    "        changed=False\n",
    "        # forward step\n",
    "        excluded = list(set(X.columns)-set(included))\n",
    "        new_pval = pd.Series(index=excluded)\n",
    "        for new_column in excluded:\n",
    "            model = sm.OLS(y, sm.add_constant(pd.DataFrame(X[included+[new_column]]))).fit()\n",
    "            new_pval[new_column] = model.pvalues[new_column]\n",
    "        best_pval = new_pval.min()\n",
    "        if best_pval < threshold_in:\n",
    "            best_feature = new_pval.idxmin()\n",
    "            included.append(best_feature)\n",
    "            changed=True\n",
    "            if verbose:\n",
    "                print('Add  {:30} with p-value {:.6}'.format(best_feature, best_pval))\n",
    "\n",
    "        # backward step\n",
    "        model = sm.OLS(y, sm.add_constant(pd.DataFrame(X[included]))).fit()\n",
    "        # use all coefs except intercept\n",
    "        pvalues = model.pvalues.iloc[1:]\n",
    "        worst_pval = pvalues.max() # null if pvalues is empty\n",
    "        if worst_pval > threshold_out:\n",
    "            changed=True\n",
    "            worst_feature = pvalues.idxmax()\n",
    "            included.remove(worst_feature)\n",
    "            if verbose:\n",
    "                print('Drop {:30} with p-value {:.6}'.format(worst_feature, worst_pval))\n",
    "        if not changed:\n",
    "            break\n",
    "    return included"
   ]
  },
  {
   "cell_type": "code",
   "execution_count": 131,
   "metadata": {
    "scrolled": true
   },
   "outputs": [
    {
     "name": "stdout",
     "output_type": "stream",
     "text": [
      "Add  grade                          with p-value 0.0\n",
      "Add  waterfront                     with p-value 0.0\n",
      "Add  yr_built                       with p-value 0.0\n",
      "Add  zip_means                      with p-value 0.0\n",
      "Add  is_viewed                      with p-value 1.162e-244\n",
      "Add  bathrooms                      with p-value 4.93112e-207\n",
      "Add  sqft_living15                  with p-value 1.78699e-63\n",
      "Add  bedrooms_(2, 3]                with p-value 3.16828e-29\n",
      "Add  April                          with p-value 2.19154e-08\n",
      "Add  March                          with p-value 3.99839e-06\n",
      "Add  is_renovated                   with p-value 3.00453e-05\n",
      "resulting features:\n",
      "['grade', 'waterfront', 'yr_built', 'zip_means', 'is_viewed', 'bathrooms', 'sqft_living15', 'bedrooms_(2, 3]', 'April', 'March', 'is_renovated']\n"
     ]
    }
   ],
   "source": [
    "# Try model again, now with stepwise selection\n",
    "result = stepwise_selection(X.astype(float), y, verbose = True)\n",
    "print('resulting features:')\n",
    "print(result)"
   ]
  },
  {
   "cell_type": "code",
   "execution_count": 132,
   "metadata": {},
   "outputs": [
    {
     "data": {
      "text/html": [
       "<table class=\"simpletable\">\n",
       "<caption>OLS Regression Results</caption>\n",
       "<tr>\n",
       "  <th>Dep. Variable:</th>          <td>price</td>      <th>  R-squared:         </th>  <td>   0.683</td>  \n",
       "</tr>\n",
       "<tr>\n",
       "  <th>Model:</th>                   <td>OLS</td>       <th>  Adj. R-squared:    </th>  <td>   0.682</td>  \n",
       "</tr>\n",
       "<tr>\n",
       "  <th>Method:</th>             <td>Least Squares</td>  <th>  F-statistic:       </th>  <td>   1938.</td>  \n",
       "</tr>\n",
       "<tr>\n",
       "  <th>Date:</th>             <td>Tue, 09 Apr 2019</td> <th>  Prob (F-statistic):</th>   <td>  0.00</td>   \n",
       "</tr>\n",
       "<tr>\n",
       "  <th>Time:</th>                 <td>15:16:05</td>     <th>  Log-Likelihood:    </th> <td>-2.8322e+05</td>\n",
       "</tr>\n",
       "<tr>\n",
       "  <th>No. Observations:</th>      <td> 20735</td>      <th>  AIC:               </th>  <td>5.665e+05</td> \n",
       "</tr>\n",
       "<tr>\n",
       "  <th>Df Residuals:</th>          <td> 20711</td>      <th>  BIC:               </th>  <td>5.667e+05</td> \n",
       "</tr>\n",
       "<tr>\n",
       "  <th>Df Model:</th>              <td>    23</td>      <th>                     </th>      <td> </td>     \n",
       "</tr>\n",
       "<tr>\n",
       "  <th>Covariance Type:</th>      <td>nonrobust</td>    <th>                     </th>      <td> </td>     \n",
       "</tr>\n",
       "</table>\n",
       "<table class=\"simpletable\">\n",
       "<tr>\n",
       "          <td></td>            <th>coef</th>     <th>std err</th>      <th>t</th>      <th>P>|t|</th>  <th>[0.025</th>    <th>0.975]</th>  \n",
       "</tr>\n",
       "<tr>\n",
       "  <th>const</th>            <td>-4.726e+06</td> <td> 4.09e+04</td> <td> -115.507</td> <td> 0.000</td> <td>-4.81e+06</td> <td>-4.65e+06</td>\n",
       "</tr>\n",
       "<tr>\n",
       "  <th>grade</th>            <td> 9.335e+05</td> <td>  1.6e+04</td> <td>   58.456</td> <td> 0.000</td> <td> 9.02e+05</td> <td> 9.65e+05</td>\n",
       "</tr>\n",
       "<tr>\n",
       "  <th>sqft_living15</th>    <td> 1.025e+05</td> <td> 6521.333</td> <td>   15.716</td> <td> 0.000</td> <td> 8.97e+04</td> <td> 1.15e+05</td>\n",
       "</tr>\n",
       "<tr>\n",
       "  <th>bathrooms</th>        <td> 1.254e+05</td> <td> 6273.097</td> <td>   19.990</td> <td> 0.000</td> <td> 1.13e+05</td> <td> 1.38e+05</td>\n",
       "</tr>\n",
       "<tr>\n",
       "  <th>zip_means</th>        <td> 3.528e+05</td> <td> 4173.152</td> <td>   84.548</td> <td> 0.000</td> <td> 3.45e+05</td> <td> 3.61e+05</td>\n",
       "</tr>\n",
       "<tr>\n",
       "  <th>floors</th>           <td> 3.055e+04</td> <td> 8892.245</td> <td>    3.436</td> <td> 0.001</td> <td> 1.31e+04</td> <td>  4.8e+04</td>\n",
       "</tr>\n",
       "<tr>\n",
       "  <th>yr_built</th>         <td>-2.753e+05</td> <td> 7957.143</td> <td>  -34.604</td> <td> 0.000</td> <td>-2.91e+05</td> <td> -2.6e+05</td>\n",
       "</tr>\n",
       "<tr>\n",
       "  <th>waterfront</th>       <td> 7.846e+05</td> <td> 1.81e+04</td> <td>   43.276</td> <td> 0.000</td> <td> 7.49e+05</td> <td>  8.2e+05</td>\n",
       "</tr>\n",
       "<tr>\n",
       "  <th>has_basement</th>     <td> 1.027e+04</td> <td> 3405.799</td> <td>    3.016</td> <td> 0.003</td> <td> 3596.076</td> <td> 1.69e+04</td>\n",
       "</tr>\n",
       "<tr>\n",
       "  <th>is_renovated</th>     <td> 3.436e+04</td> <td> 8234.833</td> <td>    4.172</td> <td> 0.000</td> <td> 1.82e+04</td> <td> 5.05e+04</td>\n",
       "</tr>\n",
       "<tr>\n",
       "  <th>is_viewed</th>        <td>  1.55e+05</td> <td> 5330.721</td> <td>   29.075</td> <td> 0.000</td> <td> 1.45e+05</td> <td> 1.65e+05</td>\n",
       "</tr>\n",
       "<tr>\n",
       "  <th>April</th>            <td>-3.694e+05</td> <td> 5535.662</td> <td>  -66.739</td> <td> 0.000</td> <td> -3.8e+05</td> <td>-3.59e+05</td>\n",
       "</tr>\n",
       "<tr>\n",
       "  <th>August</th>           <td>-3.976e+05</td> <td> 5772.508</td> <td>  -68.871</td> <td> 0.000</td> <td>-4.09e+05</td> <td>-3.86e+05</td>\n",
       "</tr>\n",
       "<tr>\n",
       "  <th>December</th>         <td> -3.98e+05</td> <td> 6210.797</td> <td>  -64.078</td> <td> 0.000</td> <td> -4.1e+05</td> <td>-3.86e+05</td>\n",
       "</tr>\n",
       "<tr>\n",
       "  <th>February</th>         <td>-3.912e+05</td> <td> 6602.407</td> <td>  -59.249</td> <td> 0.000</td> <td>-4.04e+05</td> <td>-3.78e+05</td>\n",
       "</tr>\n",
       "<tr>\n",
       "  <th>January</th>          <td>-3.936e+05</td> <td> 7220.093</td> <td>  -54.515</td> <td> 0.000</td> <td>-4.08e+05</td> <td>-3.79e+05</td>\n",
       "</tr>\n",
       "<tr>\n",
       "  <th>July</th>             <td>-4.012e+05</td> <td> 5571.390</td> <td>  -72.010</td> <td> 0.000</td> <td>-4.12e+05</td> <td> -3.9e+05</td>\n",
       "</tr>\n",
       "<tr>\n",
       "  <th>June</th>             <td> -4.01e+05</td> <td> 5597.634</td> <td>  -71.633</td> <td> 0.000</td> <td>-4.12e+05</td> <td> -3.9e+05</td>\n",
       "</tr>\n",
       "<tr>\n",
       "  <th>March</th>            <td>-3.747e+05</td> <td> 5806.860</td> <td>  -64.529</td> <td> 0.000</td> <td>-3.86e+05</td> <td>-3.63e+05</td>\n",
       "</tr>\n",
       "<tr>\n",
       "  <th>May</th>              <td>-3.906e+05</td> <td> 5423.185</td> <td>  -72.024</td> <td> 0.000</td> <td>-4.01e+05</td> <td> -3.8e+05</td>\n",
       "</tr>\n",
       "<tr>\n",
       "  <th>November</th>         <td> -4.02e+05</td> <td> 6322.647</td> <td>  -63.584</td> <td> 0.000</td> <td>-4.14e+05</td> <td> -3.9e+05</td>\n",
       "</tr>\n",
       "<tr>\n",
       "  <th>October</th>          <td>-3.984e+05</td> <td> 5812.305</td> <td>  -68.547</td> <td> 0.000</td> <td> -4.1e+05</td> <td>-3.87e+05</td>\n",
       "</tr>\n",
       "<tr>\n",
       "  <th>September</th>        <td>-4.086e+05</td> <td> 5924.309</td> <td>  -68.975</td> <td> 0.000</td> <td> -4.2e+05</td> <td>-3.97e+05</td>\n",
       "</tr>\n",
       "<tr>\n",
       "  <th>bedrooms_(0, 2]</th>  <td>-1.568e+06</td> <td> 1.39e+04</td> <td> -112.628</td> <td> 0.000</td> <td> -1.6e+06</td> <td>-1.54e+06</td>\n",
       "</tr>\n",
       "<tr>\n",
       "  <th>bedrooms_(2, 3]</th>  <td>-1.597e+06</td> <td> 1.36e+04</td> <td> -117.106</td> <td> 0.000</td> <td>-1.62e+06</td> <td>-1.57e+06</td>\n",
       "</tr>\n",
       "<tr>\n",
       "  <th>bedrooms_(3, 11]</th> <td>-1.561e+06</td> <td> 1.41e+04</td> <td> -110.476</td> <td> 0.000</td> <td>-1.59e+06</td> <td>-1.53e+06</td>\n",
       "</tr>\n",
       "</table>\n",
       "<table class=\"simpletable\">\n",
       "<tr>\n",
       "  <th>Omnibus:</th>       <td>23882.641</td> <th>  Durbin-Watson:     </th>  <td>   1.981</td>  \n",
       "</tr>\n",
       "<tr>\n",
       "  <th>Prob(Omnibus):</th>  <td> 0.000</td>   <th>  Jarque-Bera (JB):  </th> <td>7402753.702</td>\n",
       "</tr>\n",
       "<tr>\n",
       "  <th>Skew:</th>           <td> 5.620</td>   <th>  Prob(JB):          </th>  <td>    0.00</td>  \n",
       "</tr>\n",
       "<tr>\n",
       "  <th>Kurtosis:</th>       <td>94.881</td>   <th>  Cond. No.          </th>  <td>5.25e+16</td>  \n",
       "</tr>\n",
       "</table><br/><br/>Warnings:<br/>[1] Standard Errors assume that the covariance matrix of the errors is correctly specified.<br/>[2] The smallest eigenvalue is 1.77e-27. This might indicate that there are<br/>strong multicollinearity problems or that the design matrix is singular."
      ],
      "text/plain": [
       "<class 'statsmodels.iolib.summary.Summary'>\n",
       "\"\"\"\n",
       "                            OLS Regression Results                            \n",
       "==============================================================================\n",
       "Dep. Variable:                  price   R-squared:                       0.683\n",
       "Model:                            OLS   Adj. R-squared:                  0.682\n",
       "Method:                 Least Squares   F-statistic:                     1938.\n",
       "Date:                Tue, 09 Apr 2019   Prob (F-statistic):               0.00\n",
       "Time:                        15:16:05   Log-Likelihood:            -2.8322e+05\n",
       "No. Observations:               20735   AIC:                         5.665e+05\n",
       "Df Residuals:                   20711   BIC:                         5.667e+05\n",
       "Df Model:                          23                                         \n",
       "Covariance Type:            nonrobust                                         \n",
       "====================================================================================\n",
       "                       coef    std err          t      P>|t|      [0.025      0.975]\n",
       "------------------------------------------------------------------------------------\n",
       "const            -4.726e+06   4.09e+04   -115.507      0.000   -4.81e+06   -4.65e+06\n",
       "grade             9.335e+05    1.6e+04     58.456      0.000    9.02e+05    9.65e+05\n",
       "sqft_living15     1.025e+05   6521.333     15.716      0.000    8.97e+04    1.15e+05\n",
       "bathrooms         1.254e+05   6273.097     19.990      0.000    1.13e+05    1.38e+05\n",
       "zip_means         3.528e+05   4173.152     84.548      0.000    3.45e+05    3.61e+05\n",
       "floors            3.055e+04   8892.245      3.436      0.001    1.31e+04     4.8e+04\n",
       "yr_built         -2.753e+05   7957.143    -34.604      0.000   -2.91e+05    -2.6e+05\n",
       "waterfront        7.846e+05   1.81e+04     43.276      0.000    7.49e+05     8.2e+05\n",
       "has_basement      1.027e+04   3405.799      3.016      0.003    3596.076    1.69e+04\n",
       "is_renovated      3.436e+04   8234.833      4.172      0.000    1.82e+04    5.05e+04\n",
       "is_viewed          1.55e+05   5330.721     29.075      0.000    1.45e+05    1.65e+05\n",
       "April            -3.694e+05   5535.662    -66.739      0.000    -3.8e+05   -3.59e+05\n",
       "August           -3.976e+05   5772.508    -68.871      0.000   -4.09e+05   -3.86e+05\n",
       "December          -3.98e+05   6210.797    -64.078      0.000    -4.1e+05   -3.86e+05\n",
       "February         -3.912e+05   6602.407    -59.249      0.000   -4.04e+05   -3.78e+05\n",
       "January          -3.936e+05   7220.093    -54.515      0.000   -4.08e+05   -3.79e+05\n",
       "July             -4.012e+05   5571.390    -72.010      0.000   -4.12e+05    -3.9e+05\n",
       "June              -4.01e+05   5597.634    -71.633      0.000   -4.12e+05    -3.9e+05\n",
       "March            -3.747e+05   5806.860    -64.529      0.000   -3.86e+05   -3.63e+05\n",
       "May              -3.906e+05   5423.185    -72.024      0.000   -4.01e+05    -3.8e+05\n",
       "November          -4.02e+05   6322.647    -63.584      0.000   -4.14e+05    -3.9e+05\n",
       "October          -3.984e+05   5812.305    -68.547      0.000    -4.1e+05   -3.87e+05\n",
       "September        -4.086e+05   5924.309    -68.975      0.000    -4.2e+05   -3.97e+05\n",
       "bedrooms_(0, 2]  -1.568e+06   1.39e+04   -112.628      0.000    -1.6e+06   -1.54e+06\n",
       "bedrooms_(2, 3]  -1.597e+06   1.36e+04   -117.106      0.000   -1.62e+06   -1.57e+06\n",
       "bedrooms_(3, 11] -1.561e+06   1.41e+04   -110.476      0.000   -1.59e+06   -1.53e+06\n",
       "==============================================================================\n",
       "Omnibus:                    23882.641   Durbin-Watson:                   1.981\n",
       "Prob(Omnibus):                  0.000   Jarque-Bera (JB):          7402753.702\n",
       "Skew:                           5.620   Prob(JB):                         0.00\n",
       "Kurtosis:                      94.881   Cond. No.                     5.25e+16\n",
       "==============================================================================\n",
       "\n",
       "Warnings:\n",
       "[1] Standard Errors assume that the covariance matrix of the errors is correctly specified.\n",
       "[2] The smallest eigenvalue is 1.77e-27. This might indicate that there are\n",
       "strong multicollinearity problems or that the design matrix is singular.\n",
       "\"\"\""
      ]
     },
     "execution_count": 132,
     "metadata": {},
     "output_type": "execute_result"
    }
   ],
   "source": [
    "import statsmodels.api as sm\n",
    "# initial model\n",
    "X_fin = X\n",
    "X_int = sm.add_constant(X_fin)\n",
    "model = sm.OLS(y,X_int.astype(float)).fit()\n",
    "model.summary()"
   ]
  },
  {
   "cell_type": "code",
   "execution_count": 133,
   "metadata": {},
   "outputs": [
    {
     "data": {
      "text/html": [
       "<table class=\"simpletable\">\n",
       "<caption>OLS Regression Results</caption>\n",
       "<tr>\n",
       "  <th>Dep. Variable:</th>          <td>price</td>      <th>  R-squared:         </th>  <td>   0.682</td>  \n",
       "</tr>\n",
       "<tr>\n",
       "  <th>Model:</th>                   <td>OLS</td>       <th>  Adj. R-squared:    </th>  <td>   0.682</td>  \n",
       "</tr>\n",
       "<tr>\n",
       "  <th>Method:</th>             <td>Least Squares</td>  <th>  F-statistic:       </th>  <td>   4047.</td>  \n",
       "</tr>\n",
       "<tr>\n",
       "  <th>Date:</th>             <td>Tue, 09 Apr 2019</td> <th>  Prob (F-statistic):</th>   <td>  0.00</td>   \n",
       "</tr>\n",
       "<tr>\n",
       "  <th>Time:</th>                 <td>15:16:07</td>     <th>  Log-Likelihood:    </th> <td>-2.8324e+05</td>\n",
       "</tr>\n",
       "<tr>\n",
       "  <th>No. Observations:</th>      <td> 20735</td>      <th>  AIC:               </th>  <td>5.665e+05</td> \n",
       "</tr>\n",
       "<tr>\n",
       "  <th>Df Residuals:</th>          <td> 20723</td>      <th>  BIC:               </th>  <td>5.666e+05</td> \n",
       "</tr>\n",
       "<tr>\n",
       "  <th>Df Model:</th>              <td>    11</td>      <th>                     </th>      <td> </td>     \n",
       "</tr>\n",
       "<tr>\n",
       "  <th>Covariance Type:</th>      <td>nonrobust</td>    <th>                     </th>      <td> </td>     \n",
       "</tr>\n",
       "</table>\n",
       "<table class=\"simpletable\">\n",
       "<tr>\n",
       "         <td></td>            <th>coef</th>     <th>std err</th>      <th>t</th>      <th>P>|t|</th>  <th>[0.025</th>    <th>0.975]</th>  \n",
       "</tr>\n",
       "<tr>\n",
       "  <th>const</th>           <td>-6.704e+06</td> <td> 5.78e+04</td> <td> -116.020</td> <td> 0.000</td> <td>-6.82e+06</td> <td>-6.59e+06</td>\n",
       "</tr>\n",
       "<tr>\n",
       "  <th>grade</th>           <td> 9.428e+05</td> <td> 1.57e+04</td> <td>   60.031</td> <td> 0.000</td> <td> 9.12e+05</td> <td> 9.74e+05</td>\n",
       "</tr>\n",
       "<tr>\n",
       "  <th>waterfront</th>      <td> 7.834e+05</td> <td> 1.81e+04</td> <td>   43.249</td> <td> 0.000</td> <td> 7.48e+05</td> <td> 8.19e+05</td>\n",
       "</tr>\n",
       "<tr>\n",
       "  <th>yr_built</th>        <td>-2.746e+05</td> <td> 7489.351</td> <td>  -36.666</td> <td> 0.000</td> <td>-2.89e+05</td> <td> -2.6e+05</td>\n",
       "</tr>\n",
       "<tr>\n",
       "  <th>zip_means</th>       <td> 3.543e+05</td> <td> 4098.048</td> <td>   86.464</td> <td> 0.000</td> <td> 3.46e+05</td> <td> 3.62e+05</td>\n",
       "</tr>\n",
       "<tr>\n",
       "  <th>is_viewed</th>       <td> 1.563e+05</td> <td> 5258.202</td> <td>   29.732</td> <td> 0.000</td> <td> 1.46e+05</td> <td> 1.67e+05</td>\n",
       "</tr>\n",
       "<tr>\n",
       "  <th>bathrooms</th>       <td>  1.37e+05</td> <td> 5408.322</td> <td>   25.322</td> <td> 0.000</td> <td> 1.26e+05</td> <td> 1.48e+05</td>\n",
       "</tr>\n",
       "<tr>\n",
       "  <th>sqft_living15</th>   <td> 9.969e+04</td> <td> 6309.996</td> <td>   15.799</td> <td> 0.000</td> <td> 8.73e+04</td> <td> 1.12e+05</td>\n",
       "</tr>\n",
       "<tr>\n",
       "  <th>bedrooms_(2, 3]</th> <td>-3.357e+04</td> <td> 2964.264</td> <td>  -11.326</td> <td> 0.000</td> <td>-3.94e+04</td> <td>-2.78e+04</td>\n",
       "</tr>\n",
       "<tr>\n",
       "  <th>April</th>           <td> 2.901e+04</td> <td> 4762.233</td> <td>    6.091</td> <td> 0.000</td> <td> 1.97e+04</td> <td> 3.83e+04</td>\n",
       "</tr>\n",
       "<tr>\n",
       "  <th>March</th>           <td> 2.363e+04</td> <td> 5148.648</td> <td>    4.590</td> <td> 0.000</td> <td> 1.35e+04</td> <td> 3.37e+04</td>\n",
       "</tr>\n",
       "<tr>\n",
       "  <th>is_renovated</th>    <td> 3.429e+04</td> <td> 8214.539</td> <td>    4.174</td> <td> 0.000</td> <td> 1.82e+04</td> <td> 5.04e+04</td>\n",
       "</tr>\n",
       "</table>\n",
       "<table class=\"simpletable\">\n",
       "<tr>\n",
       "  <th>Omnibus:</th>       <td>23816.322</td> <th>  Durbin-Watson:     </th>  <td>   1.980</td>  \n",
       "</tr>\n",
       "<tr>\n",
       "  <th>Prob(Omnibus):</th>  <td> 0.000</td>   <th>  Jarque-Bera (JB):  </th> <td>7305526.685</td>\n",
       "</tr>\n",
       "<tr>\n",
       "  <th>Skew:</th>           <td> 5.594</td>   <th>  Prob(JB):          </th>  <td>    0.00</td>  \n",
       "</tr>\n",
       "<tr>\n",
       "  <th>Kurtosis:</th>       <td>94.273</td>   <th>  Cond. No.          </th>  <td>    619.</td>  \n",
       "</tr>\n",
       "</table><br/><br/>Warnings:<br/>[1] Standard Errors assume that the covariance matrix of the errors is correctly specified."
      ],
      "text/plain": [
       "<class 'statsmodels.iolib.summary.Summary'>\n",
       "\"\"\"\n",
       "                            OLS Regression Results                            \n",
       "==============================================================================\n",
       "Dep. Variable:                  price   R-squared:                       0.682\n",
       "Model:                            OLS   Adj. R-squared:                  0.682\n",
       "Method:                 Least Squares   F-statistic:                     4047.\n",
       "Date:                Tue, 09 Apr 2019   Prob (F-statistic):               0.00\n",
       "Time:                        15:16:07   Log-Likelihood:            -2.8324e+05\n",
       "No. Observations:               20735   AIC:                         5.665e+05\n",
       "Df Residuals:                   20723   BIC:                         5.666e+05\n",
       "Df Model:                          11                                         \n",
       "Covariance Type:            nonrobust                                         \n",
       "===================================================================================\n",
       "                      coef    std err          t      P>|t|      [0.025      0.975]\n",
       "-----------------------------------------------------------------------------------\n",
       "const           -6.704e+06   5.78e+04   -116.020      0.000   -6.82e+06   -6.59e+06\n",
       "grade            9.428e+05   1.57e+04     60.031      0.000    9.12e+05    9.74e+05\n",
       "waterfront       7.834e+05   1.81e+04     43.249      0.000    7.48e+05    8.19e+05\n",
       "yr_built        -2.746e+05   7489.351    -36.666      0.000   -2.89e+05    -2.6e+05\n",
       "zip_means        3.543e+05   4098.048     86.464      0.000    3.46e+05    3.62e+05\n",
       "is_viewed        1.563e+05   5258.202     29.732      0.000    1.46e+05    1.67e+05\n",
       "bathrooms         1.37e+05   5408.322     25.322      0.000    1.26e+05    1.48e+05\n",
       "sqft_living15    9.969e+04   6309.996     15.799      0.000    8.73e+04    1.12e+05\n",
       "bedrooms_(2, 3] -3.357e+04   2964.264    -11.326      0.000   -3.94e+04   -2.78e+04\n",
       "April            2.901e+04   4762.233      6.091      0.000    1.97e+04    3.83e+04\n",
       "March            2.363e+04   5148.648      4.590      0.000    1.35e+04    3.37e+04\n",
       "is_renovated     3.429e+04   8214.539      4.174      0.000    1.82e+04    5.04e+04\n",
       "==============================================================================\n",
       "Omnibus:                    23816.322   Durbin-Watson:                   1.980\n",
       "Prob(Omnibus):                  0.000   Jarque-Bera (JB):          7305526.685\n",
       "Skew:                           5.594   Prob(JB):                         0.00\n",
       "Kurtosis:                      94.273   Cond. No.                         619.\n",
       "==============================================================================\n",
       "\n",
       "Warnings:\n",
       "[1] Standard Errors assume that the covariance matrix of the errors is correctly specified.\n",
       "\"\"\""
      ]
     },
     "execution_count": 133,
     "metadata": {},
     "output_type": "execute_result"
    }
   ],
   "source": [
    "# model using resulting features\n",
    "\n",
    "X_fin = X[result]\n",
    "X_int = sm.add_constant(X_fin)\n",
    "model = sm.OLS(y,X_int.astype(float)).fit()\n",
    "model.summary()"
   ]
  },
  {
   "cell_type": "code",
   "execution_count": 134,
   "metadata": {
    "scrolled": false
   },
   "outputs": [
    {
     "data": {
      "text/plain": [
       "grade               1\n",
       "sqft_living15       1\n",
       "bathrooms           1\n",
       "zip_means           1\n",
       "floors              1\n",
       "yr_built            1\n",
       "waterfront          1\n",
       "has_basement        1\n",
       "is_renovated        1\n",
       "is_viewed           1\n",
       "April               1\n",
       "August              1\n",
       "December            1\n",
       "February            1\n",
       "January             1\n",
       "July                1\n",
       "June                1\n",
       "March               1\n",
       "May                 1\n",
       "November            1\n",
       "October             1\n",
       "September           1\n",
       "bedrooms_(0, 2]     1\n",
       "bedrooms_(2, 3]     1\n",
       "bedrooms_(3, 11]    1\n",
       "dtype: int64"
      ]
     },
     "execution_count": 134,
     "metadata": {},
     "output_type": "execute_result"
    }
   ],
   "source": [
    "# getting a warning that there is strong multicollinearity so checking again for correlations...\n",
    "corrs = abs(predictors.corr() > .70)\n",
    "corrs.sum()\n"
   ]
  },
  {
   "cell_type": "code",
   "execution_count": 102,
   "metadata": {},
   "outputs": [],
   "source": [
    "from sklearn.feature_selection import RFE\n",
    "from sklearn.linear_model import LinearRegression\n",
    "from sklearn.metrics import mean_squared_error, r2_score\n",
    "\n",
    "linreg = LinearRegression()\n",
    "\n",
    "selector = RFE(linreg, n_features_to_select = 5)\n",
    "selector = selector.fit(X, y)\n",
    "\n",
    "selected_columns = X.columns[selector.support_]\n",
    "model3 = linreg.fit(X[selected_columns],y)\n",
    "\n",
    "## how do you see the score of this model???\n",
    "## model3.score(X, y)"
   ]
  },
  {
   "cell_type": "code",
   "execution_count": null,
   "metadata": {},
   "outputs": [],
   "source": []
  }
 ],
 "metadata": {
  "kernelspec": {
   "display_name": "Python 3",
   "language": "python",
   "name": "python3"
  },
  "language_info": {
   "codemirror_mode": {
    "name": "ipython",
    "version": 3
   },
   "file_extension": ".py",
   "mimetype": "text/x-python",
   "name": "python",
   "nbconvert_exporter": "python",
   "pygments_lexer": "ipython3",
   "version": "3.7.1"
  }
 },
 "nbformat": 4,
 "nbformat_minor": 2
}
